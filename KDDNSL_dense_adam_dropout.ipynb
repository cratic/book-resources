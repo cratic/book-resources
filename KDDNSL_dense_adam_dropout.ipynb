{
  "nbformat": 4,
  "nbformat_minor": 0,
  "metadata": {
    "colab": {
      "name": "KDDNSL-dense-adam-dropout.ipynb",
      "version": "0.3.2",
      "provenance": [],
      "collapsed_sections": [],
      "toc_visible": true,
      "include_colab_link": true
    },
    "kernelspec": {
      "name": "python3",
      "display_name": "Python 3"
    },
    "accelerator": "GPU"
  },
  "cells": [
    {
      "cell_type": "markdown",
      "metadata": {
        "id": "view-in-github",
        "colab_type": "text"
      },
      "source": [
        "<a href=\"https://colab.research.google.com/github/cratic/book-resources/blob/master/KDDNSL_dense_adam_dropout.ipynb\" target=\"_parent\"><img src=\"https://colab.research.google.com/assets/colab-badge.svg\" alt=\"Open In Colab\"/></a>"
      ]
    },
    {
      "metadata": {
        "id": "2NnkO8f9YaO-",
        "colab_type": "text"
      },
      "cell_type": "markdown",
      "source": [
        "# Std Libraries & Options & Parameters"
      ]
    },
    {
      "metadata": {
        "id": "cXlXO23XYUlN",
        "colab_type": "code",
        "colab": {}
      },
      "cell_type": "code",
      "source": [
        "import matplotlib.pyplot as plt\n",
        "import numpy as np\n",
        "import pandas as pd\n",
        "import sklearn\n",
        "import tensorflow as ts\n",
        "np.random.seed(1000)\n",
        "##parameters\n",
        "size_batch = 32; epochs = 150;\n",
        "#accesibility options\n",
        "#print without print(.)\n",
        "from IPython.core.interactiveshell import InteractiveShell\n",
        "InteractiveShell.ast_node_interactivity = \"all\"\n",
        "#!jupyter nbextension enable highlight_selected_word/highlight_selected_word\n",
        "#alternative:from IPython.display import display; display(size_batch)\n",
        "#remove predict column\n",
        "removelabel = 'labels43' ##labels43:binary, labels44:5-Dim, labels42:originals"
      ],
      "execution_count": 0,
      "outputs": []
    },
    {
      "metadata": {
        "id": "DCgdZlt8aF9A",
        "colab_type": "text"
      },
      "cell_type": "markdown",
      "source": [
        "# Input Data & Overview"
      ]
    },
    {
      "metadata": {
        "id": "tK8aBa0LciJy",
        "colab_type": "code",
        "outputId": "11b86482-60da-4488-817a-546d7b88926d",
        "colab": {
          "base_uri": "https://localhost:8080/",
          "height": 68
        }
      },
      "cell_type": "code",
      "source": [
        "#import from googleDrive\n",
        "from google.colab import drive\n",
        "drive.mount('/content/gdrive', \n",
        "            force_remount=True)\n",
        "!ls \"/content/gdrive/My Drive/data/nslkdd\""
      ],
      "execution_count": 0,
      "outputs": [
        {
          "output_type": "stream",
          "text": [
            "Mounted at /content/gdrive\n",
            "'field names.txt'   KDDTest+.txt        KDDTrain+.txt\n",
            " KDDTest-21.txt     KDDTrain+_20P.txt\n"
          ],
          "name": "stdout"
        }
      ]
    },
    {
      "metadata": {
        "id": "VlcHNrkWYZmI",
        "colab_type": "code",
        "outputId": "639da6af-6f94-4e29-d17a-ae29be890389",
        "colab": {
          "base_uri": "https://localhost:8080/",
          "height": 1806
        }
      },
      "cell_type": "code",
      "source": [
        "train = pd.read_csv('/content/gdrive/My Drive/data/nslkdd/KDDTrain+.txt', \n",
        "                    sep = ',', \n",
        "                    index_col = False)\n",
        "test = pd.read_csv('/content/gdrive/My Drive/data/nslkdd/KDDTest+.txt', \n",
        "                   sep = ',', \n",
        "                   index_col = False)\n",
        "train.head(4)\n",
        "#columns 2-3-4 needs to be converted to categorical\n",
        "#Range of data values(numerical)\n",
        "train.describe()\n",
        "\n",
        "print(\" \\n Training Labels \\n\");\n",
        "train['labels42'].value_counts()\n",
        "print(\" \\n Test Labels \\n\");\n",
        "test['labels42'].value_counts()\n",
        "#number of classes\n",
        "print(\"\\n Number of categories in training:\")\n",
        "len(train['labels42'].value_counts())\n",
        "print(\"\\n Number of categories in test:\")\n",
        "len(test['labels42'].value_counts())\n",
        "print(\" \\n Number of test classes:\", len(test['labels42'].value_counts()))\n",
        "print(\" \\n Number of train classes:\", len(train['labels42'].value_counts()))"
      ],
      "execution_count": 0,
      "outputs": [
        {
          "output_type": "execute_result",
          "data": {
            "text/html": [
              "<div>\n",
              "<style scoped>\n",
              "    .dataframe tbody tr th:only-of-type {\n",
              "        vertical-align: middle;\n",
              "    }\n",
              "\n",
              "    .dataframe tbody tr th {\n",
              "        vertical-align: top;\n",
              "    }\n",
              "\n",
              "    .dataframe thead th {\n",
              "        text-align: right;\n",
              "    }\n",
              "</style>\n",
              "<table border=\"1\" class=\"dataframe\">\n",
              "  <thead>\n",
              "    <tr style=\"text-align: right;\">\n",
              "      <th></th>\n",
              "      <th>duration1</th>\n",
              "      <th>protocol_type2</th>\n",
              "      <th>service3</th>\n",
              "      <th>flag4</th>\n",
              "      <th>src_bytes5</th>\n",
              "      <th>dst_bytes6</th>\n",
              "      <th>land7</th>\n",
              "      <th>wrong_fragment8</th>\n",
              "      <th>urgent9</th>\n",
              "      <th>hot10</th>\n",
              "      <th>...</th>\n",
              "      <th>dst_host_srv_count33</th>\n",
              "      <th>dst_host_same_srv_rate34</th>\n",
              "      <th>dst_host_diff_srv_rate35</th>\n",
              "      <th>dst_host_same_src_port_rate36</th>\n",
              "      <th>dst_host_srv_diff_host_rate37</th>\n",
              "      <th>dst_host_serror_rate38</th>\n",
              "      <th>dst_host_srv_serror_rate39</th>\n",
              "      <th>dst_host_rerror_rate40</th>\n",
              "      <th>dst_host_srv_rerror_rate41</th>\n",
              "      <th>labels42</th>\n",
              "    </tr>\n",
              "  </thead>\n",
              "  <tbody>\n",
              "    <tr>\n",
              "      <th>0</th>\n",
              "      <td>0</td>\n",
              "      <td>tcp</td>\n",
              "      <td>ftp_data</td>\n",
              "      <td>SF</td>\n",
              "      <td>491</td>\n",
              "      <td>0</td>\n",
              "      <td>0</td>\n",
              "      <td>0</td>\n",
              "      <td>0</td>\n",
              "      <td>0</td>\n",
              "      <td>...</td>\n",
              "      <td>25</td>\n",
              "      <td>0.17</td>\n",
              "      <td>0.03</td>\n",
              "      <td>0.17</td>\n",
              "      <td>0.00</td>\n",
              "      <td>0.00</td>\n",
              "      <td>0.00</td>\n",
              "      <td>0.05</td>\n",
              "      <td>0.00</td>\n",
              "      <td>normal</td>\n",
              "    </tr>\n",
              "    <tr>\n",
              "      <th>1</th>\n",
              "      <td>0</td>\n",
              "      <td>udp</td>\n",
              "      <td>other</td>\n",
              "      <td>SF</td>\n",
              "      <td>146</td>\n",
              "      <td>0</td>\n",
              "      <td>0</td>\n",
              "      <td>0</td>\n",
              "      <td>0</td>\n",
              "      <td>0</td>\n",
              "      <td>...</td>\n",
              "      <td>1</td>\n",
              "      <td>0.00</td>\n",
              "      <td>0.60</td>\n",
              "      <td>0.88</td>\n",
              "      <td>0.00</td>\n",
              "      <td>0.00</td>\n",
              "      <td>0.00</td>\n",
              "      <td>0.00</td>\n",
              "      <td>0.00</td>\n",
              "      <td>normal</td>\n",
              "    </tr>\n",
              "    <tr>\n",
              "      <th>2</th>\n",
              "      <td>0</td>\n",
              "      <td>tcp</td>\n",
              "      <td>private</td>\n",
              "      <td>S0</td>\n",
              "      <td>0</td>\n",
              "      <td>0</td>\n",
              "      <td>0</td>\n",
              "      <td>0</td>\n",
              "      <td>0</td>\n",
              "      <td>0</td>\n",
              "      <td>...</td>\n",
              "      <td>26</td>\n",
              "      <td>0.10</td>\n",
              "      <td>0.05</td>\n",
              "      <td>0.00</td>\n",
              "      <td>0.00</td>\n",
              "      <td>1.00</td>\n",
              "      <td>1.00</td>\n",
              "      <td>0.00</td>\n",
              "      <td>0.00</td>\n",
              "      <td>neptune</td>\n",
              "    </tr>\n",
              "    <tr>\n",
              "      <th>3</th>\n",
              "      <td>0</td>\n",
              "      <td>tcp</td>\n",
              "      <td>http</td>\n",
              "      <td>SF</td>\n",
              "      <td>232</td>\n",
              "      <td>8153</td>\n",
              "      <td>0</td>\n",
              "      <td>0</td>\n",
              "      <td>0</td>\n",
              "      <td>0</td>\n",
              "      <td>...</td>\n",
              "      <td>255</td>\n",
              "      <td>1.00</td>\n",
              "      <td>0.00</td>\n",
              "      <td>0.03</td>\n",
              "      <td>0.04</td>\n",
              "      <td>0.03</td>\n",
              "      <td>0.01</td>\n",
              "      <td>0.00</td>\n",
              "      <td>0.01</td>\n",
              "      <td>normal</td>\n",
              "    </tr>\n",
              "  </tbody>\n",
              "</table>\n",
              "<p>4 rows × 42 columns</p>\n",
              "</div>"
            ],
            "text/plain": [
              "   duration1 protocol_type2  service3 flag4  src_bytes5  dst_bytes6  land7  \\\n",
              "0          0            tcp  ftp_data    SF         491           0      0   \n",
              "1          0            udp     other    SF         146           0      0   \n",
              "2          0            tcp   private    S0           0           0      0   \n",
              "3          0            tcp      http    SF         232        8153      0   \n",
              "\n",
              "   wrong_fragment8  urgent9  hot10    ...     dst_host_srv_count33  \\\n",
              "0                0        0      0    ...                       25   \n",
              "1                0        0      0    ...                        1   \n",
              "2                0        0      0    ...                       26   \n",
              "3                0        0      0    ...                      255   \n",
              "\n",
              "   dst_host_same_srv_rate34  dst_host_diff_srv_rate35  \\\n",
              "0                      0.17                      0.03   \n",
              "1                      0.00                      0.60   \n",
              "2                      0.10                      0.05   \n",
              "3                      1.00                      0.00   \n",
              "\n",
              "   dst_host_same_src_port_rate36  dst_host_srv_diff_host_rate37  \\\n",
              "0                           0.17                           0.00   \n",
              "1                           0.88                           0.00   \n",
              "2                           0.00                           0.00   \n",
              "3                           0.03                           0.04   \n",
              "\n",
              "   dst_host_serror_rate38  dst_host_srv_serror_rate39  dst_host_rerror_rate40  \\\n",
              "0                    0.00                        0.00                    0.05   \n",
              "1                    0.00                        0.00                    0.00   \n",
              "2                    1.00                        1.00                    0.00   \n",
              "3                    0.03                        0.01                    0.00   \n",
              "\n",
              "   dst_host_srv_rerror_rate41  labels42  \n",
              "0                        0.00    normal  \n",
              "1                        0.00    normal  \n",
              "2                        0.00   neptune  \n",
              "3                        0.01    normal  \n",
              "\n",
              "[4 rows x 42 columns]"
            ]
          },
          "metadata": {
            "tags": []
          },
          "execution_count": 3
        },
        {
          "output_type": "execute_result",
          "data": {
            "text/html": [
              "<div>\n",
              "<style scoped>\n",
              "    .dataframe tbody tr th:only-of-type {\n",
              "        vertical-align: middle;\n",
              "    }\n",
              "\n",
              "    .dataframe tbody tr th {\n",
              "        vertical-align: top;\n",
              "    }\n",
              "\n",
              "    .dataframe thead th {\n",
              "        text-align: right;\n",
              "    }\n",
              "</style>\n",
              "<table border=\"1\" class=\"dataframe\">\n",
              "  <thead>\n",
              "    <tr style=\"text-align: right;\">\n",
              "      <th></th>\n",
              "      <th>duration1</th>\n",
              "      <th>src_bytes5</th>\n",
              "      <th>dst_bytes6</th>\n",
              "      <th>land7</th>\n",
              "      <th>wrong_fragment8</th>\n",
              "      <th>urgent9</th>\n",
              "      <th>hot10</th>\n",
              "      <th>num_failed_logins11</th>\n",
              "      <th>logged_in12</th>\n",
              "      <th>num_compromised13</th>\n",
              "      <th>...</th>\n",
              "      <th>dst_host_count32</th>\n",
              "      <th>dst_host_srv_count33</th>\n",
              "      <th>dst_host_same_srv_rate34</th>\n",
              "      <th>dst_host_diff_srv_rate35</th>\n",
              "      <th>dst_host_same_src_port_rate36</th>\n",
              "      <th>dst_host_srv_diff_host_rate37</th>\n",
              "      <th>dst_host_serror_rate38</th>\n",
              "      <th>dst_host_srv_serror_rate39</th>\n",
              "      <th>dst_host_rerror_rate40</th>\n",
              "      <th>dst_host_srv_rerror_rate41</th>\n",
              "    </tr>\n",
              "  </thead>\n",
              "  <tbody>\n",
              "    <tr>\n",
              "      <th>count</th>\n",
              "      <td>125973.00000</td>\n",
              "      <td>1.259730e+05</td>\n",
              "      <td>1.259730e+05</td>\n",
              "      <td>125973.000000</td>\n",
              "      <td>125973.000000</td>\n",
              "      <td>125973.000000</td>\n",
              "      <td>125973.000000</td>\n",
              "      <td>125973.000000</td>\n",
              "      <td>125973.000000</td>\n",
              "      <td>125973.000000</td>\n",
              "      <td>...</td>\n",
              "      <td>125973.000000</td>\n",
              "      <td>125973.000000</td>\n",
              "      <td>125973.000000</td>\n",
              "      <td>125973.000000</td>\n",
              "      <td>125973.000000</td>\n",
              "      <td>125973.000000</td>\n",
              "      <td>125973.000000</td>\n",
              "      <td>125973.000000</td>\n",
              "      <td>125973.000000</td>\n",
              "      <td>125973.000000</td>\n",
              "    </tr>\n",
              "    <tr>\n",
              "      <th>mean</th>\n",
              "      <td>287.14465</td>\n",
              "      <td>4.556674e+04</td>\n",
              "      <td>1.977911e+04</td>\n",
              "      <td>0.000198</td>\n",
              "      <td>0.022687</td>\n",
              "      <td>0.000111</td>\n",
              "      <td>0.204409</td>\n",
              "      <td>0.001222</td>\n",
              "      <td>0.395736</td>\n",
              "      <td>0.279250</td>\n",
              "      <td>...</td>\n",
              "      <td>182.148945</td>\n",
              "      <td>115.653005</td>\n",
              "      <td>0.521242</td>\n",
              "      <td>0.082951</td>\n",
              "      <td>0.148379</td>\n",
              "      <td>0.032542</td>\n",
              "      <td>0.284452</td>\n",
              "      <td>0.278485</td>\n",
              "      <td>0.118832</td>\n",
              "      <td>0.120240</td>\n",
              "    </tr>\n",
              "    <tr>\n",
              "      <th>std</th>\n",
              "      <td>2604.51531</td>\n",
              "      <td>5.870331e+06</td>\n",
              "      <td>4.021269e+06</td>\n",
              "      <td>0.014086</td>\n",
              "      <td>0.253530</td>\n",
              "      <td>0.014366</td>\n",
              "      <td>2.149968</td>\n",
              "      <td>0.045239</td>\n",
              "      <td>0.489010</td>\n",
              "      <td>23.942042</td>\n",
              "      <td>...</td>\n",
              "      <td>99.206213</td>\n",
              "      <td>110.702741</td>\n",
              "      <td>0.448949</td>\n",
              "      <td>0.188922</td>\n",
              "      <td>0.308997</td>\n",
              "      <td>0.112564</td>\n",
              "      <td>0.444784</td>\n",
              "      <td>0.445669</td>\n",
              "      <td>0.306557</td>\n",
              "      <td>0.319459</td>\n",
              "    </tr>\n",
              "    <tr>\n",
              "      <th>min</th>\n",
              "      <td>0.00000</td>\n",
              "      <td>0.000000e+00</td>\n",
              "      <td>0.000000e+00</td>\n",
              "      <td>0.000000</td>\n",
              "      <td>0.000000</td>\n",
              "      <td>0.000000</td>\n",
              "      <td>0.000000</td>\n",
              "      <td>0.000000</td>\n",
              "      <td>0.000000</td>\n",
              "      <td>0.000000</td>\n",
              "      <td>...</td>\n",
              "      <td>0.000000</td>\n",
              "      <td>0.000000</td>\n",
              "      <td>0.000000</td>\n",
              "      <td>0.000000</td>\n",
              "      <td>0.000000</td>\n",
              "      <td>0.000000</td>\n",
              "      <td>0.000000</td>\n",
              "      <td>0.000000</td>\n",
              "      <td>0.000000</td>\n",
              "      <td>0.000000</td>\n",
              "    </tr>\n",
              "    <tr>\n",
              "      <th>25%</th>\n",
              "      <td>0.00000</td>\n",
              "      <td>0.000000e+00</td>\n",
              "      <td>0.000000e+00</td>\n",
              "      <td>0.000000</td>\n",
              "      <td>0.000000</td>\n",
              "      <td>0.000000</td>\n",
              "      <td>0.000000</td>\n",
              "      <td>0.000000</td>\n",
              "      <td>0.000000</td>\n",
              "      <td>0.000000</td>\n",
              "      <td>...</td>\n",
              "      <td>82.000000</td>\n",
              "      <td>10.000000</td>\n",
              "      <td>0.050000</td>\n",
              "      <td>0.000000</td>\n",
              "      <td>0.000000</td>\n",
              "      <td>0.000000</td>\n",
              "      <td>0.000000</td>\n",
              "      <td>0.000000</td>\n",
              "      <td>0.000000</td>\n",
              "      <td>0.000000</td>\n",
              "    </tr>\n",
              "    <tr>\n",
              "      <th>50%</th>\n",
              "      <td>0.00000</td>\n",
              "      <td>4.400000e+01</td>\n",
              "      <td>0.000000e+00</td>\n",
              "      <td>0.000000</td>\n",
              "      <td>0.000000</td>\n",
              "      <td>0.000000</td>\n",
              "      <td>0.000000</td>\n",
              "      <td>0.000000</td>\n",
              "      <td>0.000000</td>\n",
              "      <td>0.000000</td>\n",
              "      <td>...</td>\n",
              "      <td>255.000000</td>\n",
              "      <td>63.000000</td>\n",
              "      <td>0.510000</td>\n",
              "      <td>0.020000</td>\n",
              "      <td>0.000000</td>\n",
              "      <td>0.000000</td>\n",
              "      <td>0.000000</td>\n",
              "      <td>0.000000</td>\n",
              "      <td>0.000000</td>\n",
              "      <td>0.000000</td>\n",
              "    </tr>\n",
              "    <tr>\n",
              "      <th>75%</th>\n",
              "      <td>0.00000</td>\n",
              "      <td>2.760000e+02</td>\n",
              "      <td>5.160000e+02</td>\n",
              "      <td>0.000000</td>\n",
              "      <td>0.000000</td>\n",
              "      <td>0.000000</td>\n",
              "      <td>0.000000</td>\n",
              "      <td>0.000000</td>\n",
              "      <td>1.000000</td>\n",
              "      <td>0.000000</td>\n",
              "      <td>...</td>\n",
              "      <td>255.000000</td>\n",
              "      <td>255.000000</td>\n",
              "      <td>1.000000</td>\n",
              "      <td>0.070000</td>\n",
              "      <td>0.060000</td>\n",
              "      <td>0.020000</td>\n",
              "      <td>1.000000</td>\n",
              "      <td>1.000000</td>\n",
              "      <td>0.000000</td>\n",
              "      <td>0.000000</td>\n",
              "    </tr>\n",
              "    <tr>\n",
              "      <th>max</th>\n",
              "      <td>42908.00000</td>\n",
              "      <td>1.379964e+09</td>\n",
              "      <td>1.309937e+09</td>\n",
              "      <td>1.000000</td>\n",
              "      <td>3.000000</td>\n",
              "      <td>3.000000</td>\n",
              "      <td>77.000000</td>\n",
              "      <td>5.000000</td>\n",
              "      <td>1.000000</td>\n",
              "      <td>7479.000000</td>\n",
              "      <td>...</td>\n",
              "      <td>255.000000</td>\n",
              "      <td>255.000000</td>\n",
              "      <td>1.000000</td>\n",
              "      <td>1.000000</td>\n",
              "      <td>1.000000</td>\n",
              "      <td>1.000000</td>\n",
              "      <td>1.000000</td>\n",
              "      <td>1.000000</td>\n",
              "      <td>1.000000</td>\n",
              "      <td>1.000000</td>\n",
              "    </tr>\n",
              "  </tbody>\n",
              "</table>\n",
              "<p>8 rows × 38 columns</p>\n",
              "</div>"
            ],
            "text/plain": [
              "          duration1    src_bytes5    dst_bytes6          land7  \\\n",
              "count  125973.00000  1.259730e+05  1.259730e+05  125973.000000   \n",
              "mean      287.14465  4.556674e+04  1.977911e+04       0.000198   \n",
              "std      2604.51531  5.870331e+06  4.021269e+06       0.014086   \n",
              "min         0.00000  0.000000e+00  0.000000e+00       0.000000   \n",
              "25%         0.00000  0.000000e+00  0.000000e+00       0.000000   \n",
              "50%         0.00000  4.400000e+01  0.000000e+00       0.000000   \n",
              "75%         0.00000  2.760000e+02  5.160000e+02       0.000000   \n",
              "max     42908.00000  1.379964e+09  1.309937e+09       1.000000   \n",
              "\n",
              "       wrong_fragment8        urgent9          hot10  num_failed_logins11  \\\n",
              "count    125973.000000  125973.000000  125973.000000        125973.000000   \n",
              "mean          0.022687       0.000111       0.204409             0.001222   \n",
              "std           0.253530       0.014366       2.149968             0.045239   \n",
              "min           0.000000       0.000000       0.000000             0.000000   \n",
              "25%           0.000000       0.000000       0.000000             0.000000   \n",
              "50%           0.000000       0.000000       0.000000             0.000000   \n",
              "75%           0.000000       0.000000       0.000000             0.000000   \n",
              "max           3.000000       3.000000      77.000000             5.000000   \n",
              "\n",
              "         logged_in12  num_compromised13             ...              \\\n",
              "count  125973.000000      125973.000000             ...               \n",
              "mean        0.395736           0.279250             ...               \n",
              "std         0.489010          23.942042             ...               \n",
              "min         0.000000           0.000000             ...               \n",
              "25%         0.000000           0.000000             ...               \n",
              "50%         0.000000           0.000000             ...               \n",
              "75%         1.000000           0.000000             ...               \n",
              "max         1.000000        7479.000000             ...               \n",
              "\n",
              "       dst_host_count32  dst_host_srv_count33  dst_host_same_srv_rate34  \\\n",
              "count     125973.000000         125973.000000             125973.000000   \n",
              "mean         182.148945            115.653005                  0.521242   \n",
              "std           99.206213            110.702741                  0.448949   \n",
              "min            0.000000              0.000000                  0.000000   \n",
              "25%           82.000000             10.000000                  0.050000   \n",
              "50%          255.000000             63.000000                  0.510000   \n",
              "75%          255.000000            255.000000                  1.000000   \n",
              "max          255.000000            255.000000                  1.000000   \n",
              "\n",
              "       dst_host_diff_srv_rate35  dst_host_same_src_port_rate36  \\\n",
              "count             125973.000000                  125973.000000   \n",
              "mean                   0.082951                       0.148379   \n",
              "std                    0.188922                       0.308997   \n",
              "min                    0.000000                       0.000000   \n",
              "25%                    0.000000                       0.000000   \n",
              "50%                    0.020000                       0.000000   \n",
              "75%                    0.070000                       0.060000   \n",
              "max                    1.000000                       1.000000   \n",
              "\n",
              "       dst_host_srv_diff_host_rate37  dst_host_serror_rate38  \\\n",
              "count                  125973.000000           125973.000000   \n",
              "mean                        0.032542                0.284452   \n",
              "std                         0.112564                0.444784   \n",
              "min                         0.000000                0.000000   \n",
              "25%                         0.000000                0.000000   \n",
              "50%                         0.000000                0.000000   \n",
              "75%                         0.020000                1.000000   \n",
              "max                         1.000000                1.000000   \n",
              "\n",
              "       dst_host_srv_serror_rate39  dst_host_rerror_rate40  \\\n",
              "count               125973.000000           125973.000000   \n",
              "mean                     0.278485                0.118832   \n",
              "std                      0.445669                0.306557   \n",
              "min                      0.000000                0.000000   \n",
              "25%                      0.000000                0.000000   \n",
              "50%                      0.000000                0.000000   \n",
              "75%                      1.000000                0.000000   \n",
              "max                      1.000000                1.000000   \n",
              "\n",
              "       dst_host_srv_rerror_rate41  \n",
              "count               125973.000000  \n",
              "mean                     0.120240  \n",
              "std                      0.319459  \n",
              "min                      0.000000  \n",
              "25%                      0.000000  \n",
              "50%                      0.000000  \n",
              "75%                      0.000000  \n",
              "max                      1.000000  \n",
              "\n",
              "[8 rows x 38 columns]"
            ]
          },
          "metadata": {
            "tags": []
          },
          "execution_count": 3
        },
        {
          "output_type": "stream",
          "text": [
            " \n",
            " Training Labels \n",
            "\n"
          ],
          "name": "stdout"
        },
        {
          "output_type": "execute_result",
          "data": {
            "text/plain": [
              "normal             67343\n",
              "neptune            41214\n",
              "satan               3633\n",
              "ipsweep             3599\n",
              "portsweep           2931\n",
              "smurf               2646\n",
              "nmap                1493\n",
              "back                 956\n",
              "teardrop             892\n",
              "warezclient          890\n",
              "pod                  201\n",
              "guess_passwd          53\n",
              "buffer_overflow       30\n",
              "warezmaster           20\n",
              "land                  18\n",
              "imap                  11\n",
              "rootkit               10\n",
              "loadmodule             9\n",
              "ftp_write              8\n",
              "multihop               7\n",
              "phf                    4\n",
              "perl                   3\n",
              "spy                    2\n",
              "Name: labels42, dtype: int64"
            ]
          },
          "metadata": {
            "tags": []
          },
          "execution_count": 3
        },
        {
          "output_type": "stream",
          "text": [
            " \n",
            " Test Labels \n",
            "\n"
          ],
          "name": "stdout"
        },
        {
          "output_type": "execute_result",
          "data": {
            "text/plain": [
              "normal             9711\n",
              "neptune            4657\n",
              "guess_passwd       1231\n",
              "mscan               996\n",
              "warezmaster         944\n",
              "apache2             737\n",
              "satan               735\n",
              "processtable        685\n",
              "smurf               665\n",
              "back                359\n",
              "snmpguess           331\n",
              "saint               319\n",
              "mailbomb            293\n",
              "snmpgetattack       178\n",
              "portsweep           157\n",
              "ipsweep             141\n",
              "httptunnel          133\n",
              "nmap                 73\n",
              "pod                  41\n",
              "buffer_overflow      20\n",
              "multihop             18\n",
              "named                17\n",
              "ps                   15\n",
              "sendmail             14\n",
              "xterm                13\n",
              "rootkit              13\n",
              "teardrop             12\n",
              "xlock                 9\n",
              "land                  7\n",
              "xsnoop                4\n",
              "ftp_write             3\n",
              "loadmodule            2\n",
              "perl                  2\n",
              "udpstorm              2\n",
              "phf                   2\n",
              "worm                  2\n",
              "sqlattack             2\n",
              "imap                  1\n",
              "Name: labels42, dtype: int64"
            ]
          },
          "metadata": {
            "tags": []
          },
          "execution_count": 3
        },
        {
          "output_type": "stream",
          "text": [
            "\n",
            " Number of categories in training:\n"
          ],
          "name": "stdout"
        },
        {
          "output_type": "execute_result",
          "data": {
            "text/plain": [
              "23"
            ]
          },
          "metadata": {
            "tags": []
          },
          "execution_count": 3
        },
        {
          "output_type": "stream",
          "text": [
            "\n",
            " Number of categories in test:\n"
          ],
          "name": "stdout"
        },
        {
          "output_type": "execute_result",
          "data": {
            "text/plain": [
              "38"
            ]
          },
          "metadata": {
            "tags": []
          },
          "execution_count": 3
        },
        {
          "output_type": "stream",
          "text": [
            " \n",
            " Number of test classes: 38\n",
            " \n",
            " Number of train classes: 23\n"
          ],
          "name": "stdout"
        }
      ]
    },
    {
      "metadata": {
        "id": "0yHw4DTAanfX",
        "colab_type": "text"
      },
      "cell_type": "markdown",
      "source": [
        "# Label Dimension Reduction"
      ]
    },
    {
      "metadata": {
        "id": "FlBlePks4-bG",
        "colab_type": "text"
      },
      "cell_type": "markdown",
      "source": [
        "## Binary Labels\n",
        " Attack-Normal"
      ]
    },
    {
      "metadata": {
        "id": "Z9RkOqHramVK",
        "colab_type": "code",
        "outputId": "7cf001fc-604b-40e1-862e-20c2175aaaaf",
        "colab": {
          "base_uri": "https://localhost:8080/",
          "height": 221
        }
      },
      "cell_type": "code",
      "source": [
        "train['labels43'] = np.where(train['labels42'] != 'normal', 'attack', \n",
        "                             train['labels42'])\n",
        "test['labels43'] = np.where(test['labels42'] != 'normal', 'attack', \n",
        "                            test['labels42'])\n",
        "print(\"Binary training labels\\n\"); train['labels43'].value_counts();\n",
        "print(\"Binary test labels\\n\"); test['labels43'].value_counts()\n",
        "#beware dtype:int64\n",
        "print(\"\\n Number of test classes:\", len(test['labels42'].value_counts()))\n",
        "print(\"\\n Number of train classes:\", len(train['labels42'].value_counts()))"
      ],
      "execution_count": 0,
      "outputs": [
        {
          "output_type": "stream",
          "text": [
            "Binary training labels\n",
            "\n"
          ],
          "name": "stdout"
        },
        {
          "output_type": "execute_result",
          "data": {
            "text/plain": [
              "normal    67343\n",
              "attack    58630\n",
              "Name: labels43, dtype: int64"
            ]
          },
          "metadata": {
            "tags": []
          },
          "execution_count": 4
        },
        {
          "output_type": "stream",
          "text": [
            "Binary test labels\n",
            "\n"
          ],
          "name": "stdout"
        },
        {
          "output_type": "execute_result",
          "data": {
            "text/plain": [
              "attack    12833\n",
              "normal     9711\n",
              "Name: labels43, dtype: int64"
            ]
          },
          "metadata": {
            "tags": []
          },
          "execution_count": 4
        },
        {
          "output_type": "stream",
          "text": [
            "\n",
            " Number of test classes: 38\n",
            "\n",
            " Number of train classes: 23\n"
          ],
          "name": "stdout"
        }
      ]
    },
    {
      "metadata": {
        "id": "c2nhlXD5mW_y",
        "colab_type": "text"
      },
      "cell_type": "markdown",
      "source": [
        "## 5-Dim Labels\n",
        "Normal-Probing-DOS-R2L-U2R"
      ]
    },
    {
      "metadata": {
        "id": "1Z5bn1utmEf9",
        "colab_type": "code",
        "colab": {}
      },
      "cell_type": "code",
      "source": [
        "####REDUCE LABELS with normal-DDoS-Probing-r2l-u2r\n",
        "train['labels44'] = np.where(train['labels42'] == 'normal', 'normal', train['labels42'])\n",
        "train['labels44'] = np.where(train['labels42'] == 'back', 'DDoS', train['labels44'])\n",
        "train['labels44'] = np.where(train['labels42'] == 'land', 'DDoS', train['labels44'])\n",
        "train['labels44'] = np.where(train['labels42'] == 'neptune', 'DDoS', train['labels44'])\n",
        "train['labels44'] = np.where(train['labels42'] == 'pod', 'DDoS', train['labels44'])\n",
        "train['labels44'] = np.where(train['labels42'] == 'smurf', 'DDoS', train['labels44'])\n",
        "train['labels44'] = np.where(train['labels42'] == 'teardrop', 'DDoS', train['labels44'])\n",
        "train['labels44'] = np.where(train['labels42'] == 'mailbomb', 'DDoS', train['labels44'])\n",
        "train['labels44'] = np.where(train['labels42'] == 'apache2', 'DDoS', train['labels44'])\n",
        "train['labels44'] = np.where(train['labels42'] == 'processtable', 'DDoS', train['labels44'])\n",
        "train['labels44'] = np.where(train['labels42'] == 'udpstorm', 'DDoS', train['labels44'])\n",
        "\n",
        "train['labels44'] = np.where(train['labels42'] == 'ipsweep', 'Probing', train['labels44'])\n",
        "train['labels44'] = np.where(train['labels42'] == 'nmap', 'Probing', train['labels44'])\n",
        "train['labels44'] = np.where(train['labels42'] == 'portsweep', 'Probing', train['labels44'])\n",
        "train['labels44'] = np.where(train['labels42'] == 'satan', 'Probing', train['labels44'])\n",
        "train['labels44'] = np.where(train['labels42'] == 'mscan', 'Probing', train['labels44'])\n",
        "train['labels44'] = np.where(train['labels42'] == 'saint', 'Probing', train['labels44'])\n",
        "\n",
        "train['labels44'] = np.where(train['labels42'] == 'ftp_write', 'r2l', train['labels44'])\n",
        "train['labels44'] = np.where(train['labels42'] == 'guess_passwd', 'r2l', train['labels44'])\n",
        "train['labels44'] = np.where(train['labels42'] == 'imap', 'r2l', train['labels44'])\n",
        "train['labels44'] = np.where(train['labels42'] == 'multihop', 'r2l', train['labels44'])\n",
        "train['labels44'] = np.where(train['labels42'] == 'phf', 'r2l', train['labels44'])\n",
        "train['labels44'] = np.where(train['labels42'] == 'spy', 'r2l', train['labels44'])\n",
        "train['labels44'] = np.where(train['labels42'] == 'warezclient', 'r2l', train['labels44'])\n",
        "train['labels44'] = np.where(train['labels42'] == 'warezmaster', 'r2l', train['labels44'])\n",
        "train['labels44'] = np.where(train['labels42'] == 'sendmail', 'r2l', train['labels44'])\n",
        "train['labels44'] = np.where(train['labels42'] == 'named', 'r2l', train['labels44'])\n",
        "train['labels44'] = np.where(train['labels42'] == 'snmpgetattack', 'r2l', train['labels44'])\n",
        "train['labels44'] = np.where(train['labels42'] == 'snmpguess', 'r2l', train['labels44'])\n",
        "train['labels44'] = np.where(train['labels42'] == 'xlock', 'r2l', train['labels44'])\n",
        "train['labels44'] = np.where(train['labels42'] == 'xsnoop', 'r2l', train['labels44'])\n",
        "train['labels44'] = np.where(train['labels42'] == 'worm', 'r2l', train['labels44'])\n",
        "\n",
        "train['labels44'] = np.where(train['labels42'] == 'buffer_overflow', 'u2r', train['labels44'])\n",
        "train['labels44'] = np.where(train['labels42'] == 'loadmodule', 'u2r', train['labels44'])\n",
        "train['labels44'] = np.where(train['labels42'] == 'perl', 'u2r', train['labels44'])\n",
        "train['labels44'] = np.where(train['labels42'] == 'rootkit', 'u2r', train['labels44'])\n",
        "train['labels44'] = np.where(train['labels42'] == 'httptunnel', 'u2r', train['labels44'])\n",
        "train['labels44'] = np.where(train['labels42'] == 'ps', 'u2r', train['labels44'])\n",
        "train['labels44'] = np.where(train['labels42'] == 'sqlattack', 'u2r', train['labels44'])\n",
        "train['labels44'] = np.where(train['labels42'] == 'xterm', 'u2r', train['labels44'])\n",
        "####test - REDUCE LABELS with normal-DDoS-Probing-r2l-u2r\n",
        "test['labels44'] = np.where(test['labels42'] == \"normal\", \"normal\", test['labels42'])\n",
        "test['labels44'] = np.where(test['labels42'] == \"back\", \"DDoS\", test['labels44'])\n",
        "test['labels44'] = np.where(test['labels42'] == \"land\", \"DDoS\", test['labels44'])\n",
        "test['labels44'] = np.where(test['labels42'] == \"neptune\", \"DDoS\", test['labels44'])\n",
        "test['labels44'] = np.where(test['labels42'] == \"pod\", \"DDoS\", test['labels44'])\n",
        "test['labels44'] = np.where(test['labels42'] == \"smurf\", \"DDoS\", test['labels44'])\n",
        "test['labels44'] = np.where(test['labels42'] == \"teardrop\", \"DDoS\", test['labels44'])\n",
        "test['labels44'] = np.where(test['labels42'] == \"mailbomb\", \"DDoS\", test['labels44'])\n",
        "test['labels44'] = np.where(test['labels42'] == \"apache2\", \"DDoS\", test['labels44'])\n",
        "test['labels44'] = np.where(test['labels42'] == \"processtable\", \"DDoS\", test['labels44'])\n",
        "test['labels44'] = np.where(test['labels42'] == \"udpstorm\", \"DDoS\", test['labels44'])\n",
        "\n",
        "test['labels44'] = np.where(test['labels42'] == \"ipsweep\", \"Probing\", test['labels44'])\n",
        "test['labels44'] = np.where(test['labels42'] == \"nmap\", \"Probing\", test['labels44'])\n",
        "test['labels44'] = np.where(test['labels42'] == \"portsweep\", \"Probing\", test['labels44'])\n",
        "test['labels44'] = np.where(test['labels42'] == \"satan\", \"Probing\", test['labels44'])\n",
        "test['labels44'] = np.where(test['labels42'] == \"mscan\", \"Probing\", test['labels44'])\n",
        "test['labels44'] = np.where(test['labels42'] == \"saint\", \"Probing\", test['labels44'])\n",
        "\n",
        "test['labels44'] = np.where(test['labels42'] == \"ftp_write\", \"r2l\", test['labels44'])\n",
        "test['labels44'] = np.where(test['labels42'] == \"guess_passwd\", \"r2l\", test['labels44'])\n",
        "test['labels44'] = np.where(test['labels42'] == \"imap\", \"r2l\", test['labels44'])\n",
        "test['labels44'] = np.where(test['labels42'] == \"multihop\", \"r2l\", test['labels44'])\n",
        "test['labels44'] = np.where(test['labels42'] == \"phf\", \"r2l\", test['labels44'])\n",
        "test['labels44'] = np.where(test['labels42'] == \"spy\", \"r2l\", test['labels44'])\n",
        "test['labels44'] = np.where(test['labels42'] == \"warezclient\", \"r2l\", test['labels44'])\n",
        "test['labels44'] = np.where(test['labels42'] == \"warezmaster\", \"r2l\", test['labels44'])\n",
        "test['labels44'] = np.where(test['labels42'] == \"sendmail\", \"r2l\", test['labels44'])\n",
        "test['labels44'] = np.where(test['labels42'] == \"named\", \"r2l\", test['labels44'])\n",
        "test['labels44'] = np.where(test['labels42'] == \"snmpgetattack\", \"r2l\", test['labels44'])\n",
        "test['labels44'] = np.where(test['labels42'] == \"snmpguess\", \"r2l\", test['labels44'])\n",
        "test['labels44'] = np.where(test['labels42'] == \"xlock\", \"r2l\", test['labels44'])\n",
        "test['labels44'] = np.where(test['labels42'] == \"xsnoop\", \"r2l\", test['labels44'])\n",
        "test['labels44'] = np.where(test['labels42'] == \"worm\", \"r2l\", test['labels44'])\n",
        "\n",
        "test['labels44'] = np.where(test['labels42'] == \"buffer_overflow\", \"u2r\", test['labels44'])\n",
        "test['labels44'] = np.where(test['labels42'] == \"loadmodule\", \"u2r\", test['labels44'])\n",
        "test['labels44'] = np.where(test['labels42'] == \"perl\", \"u2r\", test['labels44'])\n",
        "test['labels44'] = np.where(test['labels42'] == \"rootkit\", \"u2r\", test['labels44'])\n",
        "test['labels44'] = np.where(test['labels42'] == \"httptunnel\", \"u2r\", test['labels44'])\n",
        "test['labels44'] = np.where(test['labels42'] == \"ps\", \"u2r\", test['labels44'])\n",
        "test['labels44'] = np.where(test['labels42'] == \"sqlattack\", \"u2r\", test['labels44'])\n",
        "test['labels44'] = np.where(test['labels42'] == \"xterm\", \"u2r\", test['labels44'])"
      ],
      "execution_count": 0,
      "outputs": []
    },
    {
      "metadata": {
        "id": "DwsaZtE3m3ji",
        "colab_type": "code",
        "outputId": "0197d0ca-e4bf-40bf-bdb4-6444453b1415",
        "colab": {
          "base_uri": "https://localhost:8080/",
          "height": 323
        }
      },
      "cell_type": "code",
      "source": [
        "print(\" Multi-Category test set\\n\");\n",
        "print(\"Number of classes:\", len(test['labels44'].value_counts()))\n",
        "test['labels44'].value_counts()\n",
        "print(\"\\n Multi-Category training set\\n\");\n",
        "print(\"Number of classes:\", len(train['labels44'].value_counts()))\n",
        "train['labels44'].value_counts()"
      ],
      "execution_count": 0,
      "outputs": [
        {
          "output_type": "stream",
          "text": [
            " Multi-Category test set\n",
            "\n",
            "Number of classes: 5\n"
          ],
          "name": "stdout"
        },
        {
          "output_type": "execute_result",
          "data": {
            "text/plain": [
              "normal     9711\n",
              "DDoS       7458\n",
              "r2l        2754\n",
              "Probing    2421\n",
              "u2r         200\n",
              "Name: labels44, dtype: int64"
            ]
          },
          "metadata": {
            "tags": []
          },
          "execution_count": 6
        },
        {
          "output_type": "stream",
          "text": [
            "\n",
            " Multi-Category training set\n",
            "\n",
            "Number of classes: 5\n"
          ],
          "name": "stdout"
        },
        {
          "output_type": "execute_result",
          "data": {
            "text/plain": [
              "normal     67343\n",
              "DDoS       45927\n",
              "Probing    11656\n",
              "r2l          995\n",
              "u2r           52\n",
              "Name: labels44, dtype: int64"
            ]
          },
          "metadata": {
            "tags": []
          },
          "execution_count": 6
        }
      ]
    },
    {
      "metadata": {
        "id": "8ywQgZFinOnH",
        "colab_type": "code",
        "colab": {}
      },
      "cell_type": "code",
      "source": [
        "#***UPDATE:remove by attack type since test and training has highly uneven distribution of original labels\n",
        "#Removing classes with low sample size\n",
        "#iglist = ['u2r', 'r2l']\n",
        "#train = train[~train['labels44'].isin(iglist) ]\n",
        "#test = test[~test['labels44'].isin(iglist) ]\n",
        "##UPDATE: select label to process\n",
        "#print(\"\\n Training labels after reduction \\n\")\n",
        "#print(train['labels43'].value_counts())\n",
        "#print(\"\\n Test labels after reduction \\n\")\n",
        "#print(test['labels43'].value_counts())"
      ],
      "execution_count": 0,
      "outputs": []
    },
    {
      "metadata": {
        "id": "Zz-ecl2t3IDc",
        "colab_type": "text"
      },
      "cell_type": "markdown",
      "source": [
        "# Encoding Labels"
      ]
    },
    {
      "metadata": {
        "id": "nrJFFlAP2zBb",
        "colab_type": "code",
        "outputId": "17a78bde-5f83-4ed5-fbc3-16fb20154850",
        "colab": {
          "base_uri": "https://localhost:8080/",
          "height": 204
        }
      },
      "cell_type": "code",
      "source": [
        "#encode objects to numerical\n",
        "obj_train = train.select_dtypes(include=['object']).copy()\n",
        "obj_train.head()"
      ],
      "execution_count": 0,
      "outputs": [
        {
          "output_type": "execute_result",
          "data": {
            "text/html": [
              "<div>\n",
              "<style scoped>\n",
              "    .dataframe tbody tr th:only-of-type {\n",
              "        vertical-align: middle;\n",
              "    }\n",
              "\n",
              "    .dataframe tbody tr th {\n",
              "        vertical-align: top;\n",
              "    }\n",
              "\n",
              "    .dataframe thead th {\n",
              "        text-align: right;\n",
              "    }\n",
              "</style>\n",
              "<table border=\"1\" class=\"dataframe\">\n",
              "  <thead>\n",
              "    <tr style=\"text-align: right;\">\n",
              "      <th></th>\n",
              "      <th>protocol_type2</th>\n",
              "      <th>service3</th>\n",
              "      <th>flag4</th>\n",
              "      <th>labels42</th>\n",
              "      <th>labels43</th>\n",
              "      <th>labels44</th>\n",
              "    </tr>\n",
              "  </thead>\n",
              "  <tbody>\n",
              "    <tr>\n",
              "      <th>0</th>\n",
              "      <td>tcp</td>\n",
              "      <td>ftp_data</td>\n",
              "      <td>SF</td>\n",
              "      <td>normal</td>\n",
              "      <td>normal</td>\n",
              "      <td>normal</td>\n",
              "    </tr>\n",
              "    <tr>\n",
              "      <th>1</th>\n",
              "      <td>udp</td>\n",
              "      <td>other</td>\n",
              "      <td>SF</td>\n",
              "      <td>normal</td>\n",
              "      <td>normal</td>\n",
              "      <td>normal</td>\n",
              "    </tr>\n",
              "    <tr>\n",
              "      <th>2</th>\n",
              "      <td>tcp</td>\n",
              "      <td>private</td>\n",
              "      <td>S0</td>\n",
              "      <td>neptune</td>\n",
              "      <td>attack</td>\n",
              "      <td>DDoS</td>\n",
              "    </tr>\n",
              "    <tr>\n",
              "      <th>3</th>\n",
              "      <td>tcp</td>\n",
              "      <td>http</td>\n",
              "      <td>SF</td>\n",
              "      <td>normal</td>\n",
              "      <td>normal</td>\n",
              "      <td>normal</td>\n",
              "    </tr>\n",
              "    <tr>\n",
              "      <th>4</th>\n",
              "      <td>tcp</td>\n",
              "      <td>http</td>\n",
              "      <td>SF</td>\n",
              "      <td>normal</td>\n",
              "      <td>normal</td>\n",
              "      <td>normal</td>\n",
              "    </tr>\n",
              "  </tbody>\n",
              "</table>\n",
              "</div>"
            ],
            "text/plain": [
              "  protocol_type2  service3 flag4 labels42 labels43 labels44\n",
              "0            tcp  ftp_data    SF   normal   normal   normal\n",
              "1            udp     other    SF   normal   normal   normal\n",
              "2            tcp   private    S0  neptune   attack     DDoS\n",
              "3            tcp      http    SF   normal   normal   normal\n",
              "4            tcp      http    SF   normal   normal   normal"
            ]
          },
          "metadata": {
            "tags": []
          },
          "execution_count": 8
        }
      ]
    },
    {
      "metadata": {
        "id": "T_SflZLX3Asn",
        "colab_type": "code",
        "outputId": "f4baa548-04a1-45f9-ebfc-3b2073583584",
        "colab": {
          "base_uri": "https://localhost:8080/",
          "height": 253
        }
      },
      "cell_type": "code",
      "source": [
        "#Remove original label and 'removelabel'(in options)\n",
        "train.drop(['labels42'], axis=1, inplace = True)\n",
        "train.drop(removelabel, axis=1, inplace = True)\n",
        "test.drop(['labels42'], axis=1, inplace = True)\n",
        "test.drop(removelabel, axis=1, inplace = True)\n",
        "train.head()"
      ],
      "execution_count": 0,
      "outputs": [
        {
          "output_type": "execute_result",
          "data": {
            "text/html": [
              "<div>\n",
              "<style scoped>\n",
              "    .dataframe tbody tr th:only-of-type {\n",
              "        vertical-align: middle;\n",
              "    }\n",
              "\n",
              "    .dataframe tbody tr th {\n",
              "        vertical-align: top;\n",
              "    }\n",
              "\n",
              "    .dataframe thead th {\n",
              "        text-align: right;\n",
              "    }\n",
              "</style>\n",
              "<table border=\"1\" class=\"dataframe\">\n",
              "  <thead>\n",
              "    <tr style=\"text-align: right;\">\n",
              "      <th></th>\n",
              "      <th>duration1</th>\n",
              "      <th>protocol_type2</th>\n",
              "      <th>service3</th>\n",
              "      <th>flag4</th>\n",
              "      <th>src_bytes5</th>\n",
              "      <th>dst_bytes6</th>\n",
              "      <th>land7</th>\n",
              "      <th>wrong_fragment8</th>\n",
              "      <th>urgent9</th>\n",
              "      <th>hot10</th>\n",
              "      <th>...</th>\n",
              "      <th>dst_host_srv_count33</th>\n",
              "      <th>dst_host_same_srv_rate34</th>\n",
              "      <th>dst_host_diff_srv_rate35</th>\n",
              "      <th>dst_host_same_src_port_rate36</th>\n",
              "      <th>dst_host_srv_diff_host_rate37</th>\n",
              "      <th>dst_host_serror_rate38</th>\n",
              "      <th>dst_host_srv_serror_rate39</th>\n",
              "      <th>dst_host_rerror_rate40</th>\n",
              "      <th>dst_host_srv_rerror_rate41</th>\n",
              "      <th>labels44</th>\n",
              "    </tr>\n",
              "  </thead>\n",
              "  <tbody>\n",
              "    <tr>\n",
              "      <th>0</th>\n",
              "      <td>0</td>\n",
              "      <td>tcp</td>\n",
              "      <td>ftp_data</td>\n",
              "      <td>SF</td>\n",
              "      <td>491</td>\n",
              "      <td>0</td>\n",
              "      <td>0</td>\n",
              "      <td>0</td>\n",
              "      <td>0</td>\n",
              "      <td>0</td>\n",
              "      <td>...</td>\n",
              "      <td>25</td>\n",
              "      <td>0.17</td>\n",
              "      <td>0.03</td>\n",
              "      <td>0.17</td>\n",
              "      <td>0.00</td>\n",
              "      <td>0.00</td>\n",
              "      <td>0.00</td>\n",
              "      <td>0.05</td>\n",
              "      <td>0.00</td>\n",
              "      <td>normal</td>\n",
              "    </tr>\n",
              "    <tr>\n",
              "      <th>1</th>\n",
              "      <td>0</td>\n",
              "      <td>udp</td>\n",
              "      <td>other</td>\n",
              "      <td>SF</td>\n",
              "      <td>146</td>\n",
              "      <td>0</td>\n",
              "      <td>0</td>\n",
              "      <td>0</td>\n",
              "      <td>0</td>\n",
              "      <td>0</td>\n",
              "      <td>...</td>\n",
              "      <td>1</td>\n",
              "      <td>0.00</td>\n",
              "      <td>0.60</td>\n",
              "      <td>0.88</td>\n",
              "      <td>0.00</td>\n",
              "      <td>0.00</td>\n",
              "      <td>0.00</td>\n",
              "      <td>0.00</td>\n",
              "      <td>0.00</td>\n",
              "      <td>normal</td>\n",
              "    </tr>\n",
              "    <tr>\n",
              "      <th>2</th>\n",
              "      <td>0</td>\n",
              "      <td>tcp</td>\n",
              "      <td>private</td>\n",
              "      <td>S0</td>\n",
              "      <td>0</td>\n",
              "      <td>0</td>\n",
              "      <td>0</td>\n",
              "      <td>0</td>\n",
              "      <td>0</td>\n",
              "      <td>0</td>\n",
              "      <td>...</td>\n",
              "      <td>26</td>\n",
              "      <td>0.10</td>\n",
              "      <td>0.05</td>\n",
              "      <td>0.00</td>\n",
              "      <td>0.00</td>\n",
              "      <td>1.00</td>\n",
              "      <td>1.00</td>\n",
              "      <td>0.00</td>\n",
              "      <td>0.00</td>\n",
              "      <td>DDoS</td>\n",
              "    </tr>\n",
              "    <tr>\n",
              "      <th>3</th>\n",
              "      <td>0</td>\n",
              "      <td>tcp</td>\n",
              "      <td>http</td>\n",
              "      <td>SF</td>\n",
              "      <td>232</td>\n",
              "      <td>8153</td>\n",
              "      <td>0</td>\n",
              "      <td>0</td>\n",
              "      <td>0</td>\n",
              "      <td>0</td>\n",
              "      <td>...</td>\n",
              "      <td>255</td>\n",
              "      <td>1.00</td>\n",
              "      <td>0.00</td>\n",
              "      <td>0.03</td>\n",
              "      <td>0.04</td>\n",
              "      <td>0.03</td>\n",
              "      <td>0.01</td>\n",
              "      <td>0.00</td>\n",
              "      <td>0.01</td>\n",
              "      <td>normal</td>\n",
              "    </tr>\n",
              "    <tr>\n",
              "      <th>4</th>\n",
              "      <td>0</td>\n",
              "      <td>tcp</td>\n",
              "      <td>http</td>\n",
              "      <td>SF</td>\n",
              "      <td>199</td>\n",
              "      <td>420</td>\n",
              "      <td>0</td>\n",
              "      <td>0</td>\n",
              "      <td>0</td>\n",
              "      <td>0</td>\n",
              "      <td>...</td>\n",
              "      <td>255</td>\n",
              "      <td>1.00</td>\n",
              "      <td>0.00</td>\n",
              "      <td>0.00</td>\n",
              "      <td>0.00</td>\n",
              "      <td>0.00</td>\n",
              "      <td>0.00</td>\n",
              "      <td>0.00</td>\n",
              "      <td>0.00</td>\n",
              "      <td>normal</td>\n",
              "    </tr>\n",
              "  </tbody>\n",
              "</table>\n",
              "<p>5 rows × 42 columns</p>\n",
              "</div>"
            ],
            "text/plain": [
              "   duration1 protocol_type2  service3 flag4  src_bytes5  dst_bytes6  land7  \\\n",
              "0          0            tcp  ftp_data    SF         491           0      0   \n",
              "1          0            udp     other    SF         146           0      0   \n",
              "2          0            tcp   private    S0           0           0      0   \n",
              "3          0            tcp      http    SF         232        8153      0   \n",
              "4          0            tcp      http    SF         199         420      0   \n",
              "\n",
              "   wrong_fragment8  urgent9  hot10    ...     dst_host_srv_count33  \\\n",
              "0                0        0      0    ...                       25   \n",
              "1                0        0      0    ...                        1   \n",
              "2                0        0      0    ...                       26   \n",
              "3                0        0      0    ...                      255   \n",
              "4                0        0      0    ...                      255   \n",
              "\n",
              "   dst_host_same_srv_rate34  dst_host_diff_srv_rate35  \\\n",
              "0                      0.17                      0.03   \n",
              "1                      0.00                      0.60   \n",
              "2                      0.10                      0.05   \n",
              "3                      1.00                      0.00   \n",
              "4                      1.00                      0.00   \n",
              "\n",
              "   dst_host_same_src_port_rate36  dst_host_srv_diff_host_rate37  \\\n",
              "0                           0.17                           0.00   \n",
              "1                           0.88                           0.00   \n",
              "2                           0.00                           0.00   \n",
              "3                           0.03                           0.04   \n",
              "4                           0.00                           0.00   \n",
              "\n",
              "   dst_host_serror_rate38  dst_host_srv_serror_rate39  dst_host_rerror_rate40  \\\n",
              "0                    0.00                        0.00                    0.05   \n",
              "1                    0.00                        0.00                    0.00   \n",
              "2                    1.00                        1.00                    0.00   \n",
              "3                    0.03                        0.01                    0.00   \n",
              "4                    0.00                        0.00                    0.00   \n",
              "\n",
              "   dst_host_srv_rerror_rate41  labels44  \n",
              "0                        0.00    normal  \n",
              "1                        0.00    normal  \n",
              "2                        0.00      DDoS  \n",
              "3                        0.01    normal  \n",
              "4                        0.00    normal  \n",
              "\n",
              "[5 rows x 42 columns]"
            ]
          },
          "metadata": {
            "tags": []
          },
          "execution_count": 9
        }
      ]
    },
    {
      "metadata": {
        "id": "3gTR2kaSHvuy",
        "colab_type": "code",
        "colab": {}
      },
      "cell_type": "code",
      "source": [
        "#train.head(2)\n",
        "#train['labels44'].value_counts()\n",
        "#train['protocol_type2'].value_counts()\n",
        "#train['service3'].value_counts()\n",
        "#train['flag4'].value_counts()\n",
        "#len(train['labels44'].value_counts())\n",
        "#list(train['labels44'])"
      ],
      "execution_count": 0,
      "outputs": []
    },
    {
      "metadata": {
        "id": "paQavNMsipBw",
        "colab_type": "code",
        "outputId": "4349ebf2-5d8f-4745-eeb7-69fd1f67fe3f",
        "colab": {
          "base_uri": "https://localhost:8080/",
          "height": 263
        }
      },
      "cell_type": "code",
      "source": [
        "#LabelEncoder\n",
        "from sklearn.preprocessing import LabelBinarizer\n",
        "\n",
        "lb = LabelBinarizer()\n",
        "for column in train.columns:\n",
        "  if train[column].dtype == type(object):\n",
        "    temptr = lb.fit_transform(train[column])\n",
        "    temptr = pd.DataFrame(temptr,\n",
        "                          columns=lb.classes_)\n",
        "    train = pd.concat([train, temptr], axis = 1)\n",
        "    train.drop(column,\n",
        "               axis=1,\n",
        "               inplace=True)\n",
        "    #test\n",
        "    tempte = lb.fit_transform(test[column])\n",
        "    tempte = pd.DataFrame(tempte,\n",
        "                          columns=lb.classes_)\n",
        "    test = pd.concat([test, tempte], axis = 1)\n",
        "    test.drop(column,\n",
        "              axis=1,\n",
        "              inplace=True)\n",
        "    \n",
        "train.head(2)\n",
        "test.head(2)"
      ],
      "execution_count": 0,
      "outputs": [
        {
          "output_type": "execute_result",
          "data": {
            "text/html": [
              "<div>\n",
              "<style scoped>\n",
              "    .dataframe tbody tr th:only-of-type {\n",
              "        vertical-align: middle;\n",
              "    }\n",
              "\n",
              "    .dataframe tbody tr th {\n",
              "        vertical-align: top;\n",
              "    }\n",
              "\n",
              "    .dataframe thead th {\n",
              "        text-align: right;\n",
              "    }\n",
              "</style>\n",
              "<table border=\"1\" class=\"dataframe\">\n",
              "  <thead>\n",
              "    <tr style=\"text-align: right;\">\n",
              "      <th></th>\n",
              "      <th>duration1</th>\n",
              "      <th>src_bytes5</th>\n",
              "      <th>dst_bytes6</th>\n",
              "      <th>land7</th>\n",
              "      <th>wrong_fragment8</th>\n",
              "      <th>urgent9</th>\n",
              "      <th>hot10</th>\n",
              "      <th>num_failed_logins11</th>\n",
              "      <th>logged_in12</th>\n",
              "      <th>num_compromised13</th>\n",
              "      <th>...</th>\n",
              "      <th>S1</th>\n",
              "      <th>S2</th>\n",
              "      <th>S3</th>\n",
              "      <th>SF</th>\n",
              "      <th>SH</th>\n",
              "      <th>DDoS</th>\n",
              "      <th>Probing</th>\n",
              "      <th>normal</th>\n",
              "      <th>r2l</th>\n",
              "      <th>u2r</th>\n",
              "    </tr>\n",
              "  </thead>\n",
              "  <tbody>\n",
              "    <tr>\n",
              "      <th>0</th>\n",
              "      <td>0</td>\n",
              "      <td>491</td>\n",
              "      <td>0</td>\n",
              "      <td>0</td>\n",
              "      <td>0</td>\n",
              "      <td>0</td>\n",
              "      <td>0</td>\n",
              "      <td>0</td>\n",
              "      <td>0</td>\n",
              "      <td>0</td>\n",
              "      <td>...</td>\n",
              "      <td>0</td>\n",
              "      <td>0</td>\n",
              "      <td>0</td>\n",
              "      <td>1</td>\n",
              "      <td>0</td>\n",
              "      <td>0</td>\n",
              "      <td>0</td>\n",
              "      <td>1</td>\n",
              "      <td>0</td>\n",
              "      <td>0</td>\n",
              "    </tr>\n",
              "    <tr>\n",
              "      <th>1</th>\n",
              "      <td>0</td>\n",
              "      <td>146</td>\n",
              "      <td>0</td>\n",
              "      <td>0</td>\n",
              "      <td>0</td>\n",
              "      <td>0</td>\n",
              "      <td>0</td>\n",
              "      <td>0</td>\n",
              "      <td>0</td>\n",
              "      <td>0</td>\n",
              "      <td>...</td>\n",
              "      <td>0</td>\n",
              "      <td>0</td>\n",
              "      <td>0</td>\n",
              "      <td>1</td>\n",
              "      <td>0</td>\n",
              "      <td>0</td>\n",
              "      <td>0</td>\n",
              "      <td>1</td>\n",
              "      <td>0</td>\n",
              "      <td>0</td>\n",
              "    </tr>\n",
              "  </tbody>\n",
              "</table>\n",
              "<p>2 rows × 127 columns</p>\n",
              "</div>"
            ],
            "text/plain": [
              "   duration1  src_bytes5  dst_bytes6  land7  wrong_fragment8  urgent9  hot10  \\\n",
              "0          0         491           0      0                0        0      0   \n",
              "1          0         146           0      0                0        0      0   \n",
              "\n",
              "   num_failed_logins11  logged_in12  num_compromised13 ...   S1  S2  S3  SF  \\\n",
              "0                    0            0                  0 ...    0   0   0   1   \n",
              "1                    0            0                  0 ...    0   0   0   1   \n",
              "\n",
              "   SH  DDoS  Probing  normal  r2l  u2r  \n",
              "0   0     0        0       1    0    0  \n",
              "1   0     0        0       1    0    0  \n",
              "\n",
              "[2 rows x 127 columns]"
            ]
          },
          "metadata": {
            "tags": []
          },
          "execution_count": 11
        },
        {
          "output_type": "execute_result",
          "data": {
            "text/html": [
              "<div>\n",
              "<style scoped>\n",
              "    .dataframe tbody tr th:only-of-type {\n",
              "        vertical-align: middle;\n",
              "    }\n",
              "\n",
              "    .dataframe tbody tr th {\n",
              "        vertical-align: top;\n",
              "    }\n",
              "\n",
              "    .dataframe thead th {\n",
              "        text-align: right;\n",
              "    }\n",
              "</style>\n",
              "<table border=\"1\" class=\"dataframe\">\n",
              "  <thead>\n",
              "    <tr style=\"text-align: right;\">\n",
              "      <th></th>\n",
              "      <th>duration1</th>\n",
              "      <th>src_bytes5</th>\n",
              "      <th>dst_bytes6</th>\n",
              "      <th>land7</th>\n",
              "      <th>wrong_fragment8</th>\n",
              "      <th>urgent9</th>\n",
              "      <th>hot10</th>\n",
              "      <th>num_failed_logins11</th>\n",
              "      <th>logged_in12</th>\n",
              "      <th>num_compromised13</th>\n",
              "      <th>...</th>\n",
              "      <th>S1</th>\n",
              "      <th>S2</th>\n",
              "      <th>S3</th>\n",
              "      <th>SF</th>\n",
              "      <th>SH</th>\n",
              "      <th>DDoS</th>\n",
              "      <th>Probing</th>\n",
              "      <th>normal</th>\n",
              "      <th>r2l</th>\n",
              "      <th>u2r</th>\n",
              "    </tr>\n",
              "  </thead>\n",
              "  <tbody>\n",
              "    <tr>\n",
              "      <th>0</th>\n",
              "      <td>0</td>\n",
              "      <td>0</td>\n",
              "      <td>0</td>\n",
              "      <td>0</td>\n",
              "      <td>0</td>\n",
              "      <td>0</td>\n",
              "      <td>0</td>\n",
              "      <td>0</td>\n",
              "      <td>0</td>\n",
              "      <td>0</td>\n",
              "      <td>...</td>\n",
              "      <td>0</td>\n",
              "      <td>0</td>\n",
              "      <td>0</td>\n",
              "      <td>0</td>\n",
              "      <td>0</td>\n",
              "      <td>1</td>\n",
              "      <td>0</td>\n",
              "      <td>0</td>\n",
              "      <td>0</td>\n",
              "      <td>0</td>\n",
              "    </tr>\n",
              "    <tr>\n",
              "      <th>1</th>\n",
              "      <td>0</td>\n",
              "      <td>0</td>\n",
              "      <td>0</td>\n",
              "      <td>0</td>\n",
              "      <td>0</td>\n",
              "      <td>0</td>\n",
              "      <td>0</td>\n",
              "      <td>0</td>\n",
              "      <td>0</td>\n",
              "      <td>0</td>\n",
              "      <td>...</td>\n",
              "      <td>0</td>\n",
              "      <td>0</td>\n",
              "      <td>0</td>\n",
              "      <td>0</td>\n",
              "      <td>0</td>\n",
              "      <td>1</td>\n",
              "      <td>0</td>\n",
              "      <td>0</td>\n",
              "      <td>0</td>\n",
              "      <td>0</td>\n",
              "    </tr>\n",
              "  </tbody>\n",
              "</table>\n",
              "<p>2 rows × 121 columns</p>\n",
              "</div>"
            ],
            "text/plain": [
              "   duration1  src_bytes5  dst_bytes6  land7  wrong_fragment8  urgent9  hot10  \\\n",
              "0          0           0           0      0                0        0      0   \n",
              "1          0           0           0      0                0        0      0   \n",
              "\n",
              "   num_failed_logins11  logged_in12  num_compromised13 ...   S1  S2  S3  SF  \\\n",
              "0                    0            0                  0 ...    0   0   0   0   \n",
              "1                    0            0                  0 ...    0   0   0   0   \n",
              "\n",
              "   SH  DDoS  Probing  normal  r2l  u2r  \n",
              "0   0     1        0       0    0    0  \n",
              "1   0     1        0       0    0    0  \n",
              "\n",
              "[2 rows x 121 columns]"
            ]
          },
          "metadata": {
            "tags": []
          },
          "execution_count": 11
        }
      ]
    },
    {
      "metadata": {
        "id": "6qZSYy_F_GFV",
        "colab_type": "code",
        "colab": {}
      },
      "cell_type": "code",
      "source": [
        ""
      ],
      "execution_count": 0,
      "outputs": []
    },
    {
      "metadata": {
        "id": "l_DcxYSt4onp",
        "colab_type": "code",
        "outputId": "d06c31f7-2d0b-43e6-e88a-054ac314827e",
        "colab": {
          "base_uri": "https://localhost:8080/",
          "height": 314
        }
      },
      "cell_type": "code",
      "source": [
        "#test and train dimensions different bcs train includes 6 different services\n",
        "set(list(train)) ^ set(list(test))\n",
        "diff = set(list(train)) ^ set(list(test))\n",
        "#add \"0\" services to test set\n",
        "#####LEARN HASHING NaturalLanguageProcessing\n",
        "\n",
        "test = test.assign(aol = pd.Series(np.zeros(len(test))))\n",
        "test = test.assign(harvest = pd.Series(np.zeros(len(test))))\n",
        "test = test.assign(http_2784 = pd.Series(np.zeros(len(test))))\n",
        "test = test.assign(http_8001 = pd.Series(np.zeros(len(test))))\n",
        "test = test.assign(red_i = pd.Series(np.zeros(len(test))))\n",
        "test = test.assign(urh_i = pd.Series(np.zeros(len(test))))\n",
        "\n",
        "print(\"\\n Check dimensions\")\n",
        "set(list(train)) ^ set(list(test))\n",
        "\n",
        "orderlist = list(train)\n",
        "test = test[orderlist]\n",
        "#orderlist[38:122]\n",
        "\n",
        "train.head(2)\n",
        "test.head(2)"
      ],
      "execution_count": 0,
      "outputs": [
        {
          "output_type": "execute_result",
          "data": {
            "text/plain": [
              "{'aol', 'harvest', 'http_2784', 'http_8001', 'red_i', 'urh_i'}"
            ]
          },
          "metadata": {
            "tags": []
          },
          "execution_count": 12
        },
        {
          "output_type": "stream",
          "text": [
            "\n",
            " Check dimensions\n"
          ],
          "name": "stdout"
        },
        {
          "output_type": "execute_result",
          "data": {
            "text/plain": [
              "set()"
            ]
          },
          "metadata": {
            "tags": []
          },
          "execution_count": 12
        },
        {
          "output_type": "execute_result",
          "data": {
            "text/html": [
              "<div>\n",
              "<style scoped>\n",
              "    .dataframe tbody tr th:only-of-type {\n",
              "        vertical-align: middle;\n",
              "    }\n",
              "\n",
              "    .dataframe tbody tr th {\n",
              "        vertical-align: top;\n",
              "    }\n",
              "\n",
              "    .dataframe thead th {\n",
              "        text-align: right;\n",
              "    }\n",
              "</style>\n",
              "<table border=\"1\" class=\"dataframe\">\n",
              "  <thead>\n",
              "    <tr style=\"text-align: right;\">\n",
              "      <th></th>\n",
              "      <th>duration1</th>\n",
              "      <th>src_bytes5</th>\n",
              "      <th>dst_bytes6</th>\n",
              "      <th>land7</th>\n",
              "      <th>wrong_fragment8</th>\n",
              "      <th>urgent9</th>\n",
              "      <th>hot10</th>\n",
              "      <th>num_failed_logins11</th>\n",
              "      <th>logged_in12</th>\n",
              "      <th>num_compromised13</th>\n",
              "      <th>...</th>\n",
              "      <th>S1</th>\n",
              "      <th>S2</th>\n",
              "      <th>S3</th>\n",
              "      <th>SF</th>\n",
              "      <th>SH</th>\n",
              "      <th>DDoS</th>\n",
              "      <th>Probing</th>\n",
              "      <th>normal</th>\n",
              "      <th>r2l</th>\n",
              "      <th>u2r</th>\n",
              "    </tr>\n",
              "  </thead>\n",
              "  <tbody>\n",
              "    <tr>\n",
              "      <th>0</th>\n",
              "      <td>0</td>\n",
              "      <td>491</td>\n",
              "      <td>0</td>\n",
              "      <td>0</td>\n",
              "      <td>0</td>\n",
              "      <td>0</td>\n",
              "      <td>0</td>\n",
              "      <td>0</td>\n",
              "      <td>0</td>\n",
              "      <td>0</td>\n",
              "      <td>...</td>\n",
              "      <td>0</td>\n",
              "      <td>0</td>\n",
              "      <td>0</td>\n",
              "      <td>1</td>\n",
              "      <td>0</td>\n",
              "      <td>0</td>\n",
              "      <td>0</td>\n",
              "      <td>1</td>\n",
              "      <td>0</td>\n",
              "      <td>0</td>\n",
              "    </tr>\n",
              "    <tr>\n",
              "      <th>1</th>\n",
              "      <td>0</td>\n",
              "      <td>146</td>\n",
              "      <td>0</td>\n",
              "      <td>0</td>\n",
              "      <td>0</td>\n",
              "      <td>0</td>\n",
              "      <td>0</td>\n",
              "      <td>0</td>\n",
              "      <td>0</td>\n",
              "      <td>0</td>\n",
              "      <td>...</td>\n",
              "      <td>0</td>\n",
              "      <td>0</td>\n",
              "      <td>0</td>\n",
              "      <td>1</td>\n",
              "      <td>0</td>\n",
              "      <td>0</td>\n",
              "      <td>0</td>\n",
              "      <td>1</td>\n",
              "      <td>0</td>\n",
              "      <td>0</td>\n",
              "    </tr>\n",
              "  </tbody>\n",
              "</table>\n",
              "<p>2 rows × 127 columns</p>\n",
              "</div>"
            ],
            "text/plain": [
              "   duration1  src_bytes5  dst_bytes6  land7  wrong_fragment8  urgent9  hot10  \\\n",
              "0          0         491           0      0                0        0      0   \n",
              "1          0         146           0      0                0        0      0   \n",
              "\n",
              "   num_failed_logins11  logged_in12  num_compromised13 ...   S1  S2  S3  SF  \\\n",
              "0                    0            0                  0 ...    0   0   0   1   \n",
              "1                    0            0                  0 ...    0   0   0   1   \n",
              "\n",
              "   SH  DDoS  Probing  normal  r2l  u2r  \n",
              "0   0     0        0       1    0    0  \n",
              "1   0     0        0       1    0    0  \n",
              "\n",
              "[2 rows x 127 columns]"
            ]
          },
          "metadata": {
            "tags": []
          },
          "execution_count": 12
        },
        {
          "output_type": "execute_result",
          "data": {
            "text/html": [
              "<div>\n",
              "<style scoped>\n",
              "    .dataframe tbody tr th:only-of-type {\n",
              "        vertical-align: middle;\n",
              "    }\n",
              "\n",
              "    .dataframe tbody tr th {\n",
              "        vertical-align: top;\n",
              "    }\n",
              "\n",
              "    .dataframe thead th {\n",
              "        text-align: right;\n",
              "    }\n",
              "</style>\n",
              "<table border=\"1\" class=\"dataframe\">\n",
              "  <thead>\n",
              "    <tr style=\"text-align: right;\">\n",
              "      <th></th>\n",
              "      <th>duration1</th>\n",
              "      <th>src_bytes5</th>\n",
              "      <th>dst_bytes6</th>\n",
              "      <th>land7</th>\n",
              "      <th>wrong_fragment8</th>\n",
              "      <th>urgent9</th>\n",
              "      <th>hot10</th>\n",
              "      <th>num_failed_logins11</th>\n",
              "      <th>logged_in12</th>\n",
              "      <th>num_compromised13</th>\n",
              "      <th>...</th>\n",
              "      <th>S1</th>\n",
              "      <th>S2</th>\n",
              "      <th>S3</th>\n",
              "      <th>SF</th>\n",
              "      <th>SH</th>\n",
              "      <th>DDoS</th>\n",
              "      <th>Probing</th>\n",
              "      <th>normal</th>\n",
              "      <th>r2l</th>\n",
              "      <th>u2r</th>\n",
              "    </tr>\n",
              "  </thead>\n",
              "  <tbody>\n",
              "    <tr>\n",
              "      <th>0</th>\n",
              "      <td>0</td>\n",
              "      <td>0</td>\n",
              "      <td>0</td>\n",
              "      <td>0</td>\n",
              "      <td>0</td>\n",
              "      <td>0</td>\n",
              "      <td>0</td>\n",
              "      <td>0</td>\n",
              "      <td>0</td>\n",
              "      <td>0</td>\n",
              "      <td>...</td>\n",
              "      <td>0</td>\n",
              "      <td>0</td>\n",
              "      <td>0</td>\n",
              "      <td>0</td>\n",
              "      <td>0</td>\n",
              "      <td>1</td>\n",
              "      <td>0</td>\n",
              "      <td>0</td>\n",
              "      <td>0</td>\n",
              "      <td>0</td>\n",
              "    </tr>\n",
              "    <tr>\n",
              "      <th>1</th>\n",
              "      <td>0</td>\n",
              "      <td>0</td>\n",
              "      <td>0</td>\n",
              "      <td>0</td>\n",
              "      <td>0</td>\n",
              "      <td>0</td>\n",
              "      <td>0</td>\n",
              "      <td>0</td>\n",
              "      <td>0</td>\n",
              "      <td>0</td>\n",
              "      <td>...</td>\n",
              "      <td>0</td>\n",
              "      <td>0</td>\n",
              "      <td>0</td>\n",
              "      <td>0</td>\n",
              "      <td>0</td>\n",
              "      <td>1</td>\n",
              "      <td>0</td>\n",
              "      <td>0</td>\n",
              "      <td>0</td>\n",
              "      <td>0</td>\n",
              "    </tr>\n",
              "  </tbody>\n",
              "</table>\n",
              "<p>2 rows × 127 columns</p>\n",
              "</div>"
            ],
            "text/plain": [
              "   duration1  src_bytes5  dst_bytes6  land7  wrong_fragment8  urgent9  hot10  \\\n",
              "0          0           0           0      0                0        0      0   \n",
              "1          0           0           0      0                0        0      0   \n",
              "\n",
              "   num_failed_logins11  logged_in12  num_compromised13 ...   S1  S2  S3  SF  \\\n",
              "0                    0            0                  0 ...    0   0   0   0   \n",
              "1                    0            0                  0 ...    0   0   0   0   \n",
              "\n",
              "   SH  DDoS  Probing  normal  r2l  u2r  \n",
              "0   0     1        0       0    0    0  \n",
              "1   0     1        0       0    0    0  \n",
              "\n",
              "[2 rows x 127 columns]"
            ]
          },
          "metadata": {
            "tags": []
          },
          "execution_count": 12
        }
      ]
    },
    {
      "metadata": {
        "id": "U6-sf5zi7w2o",
        "colab_type": "text"
      },
      "cell_type": "markdown",
      "source": [
        "# Normalize & Split InputFeatures - OutputCategories"
      ]
    },
    {
      "metadata": {
        "id": "ps2J5Dww5F1I",
        "colab_type": "code",
        "outputId": "568002eb-2d72-4ddc-bfda-1ecb10ee5b64",
        "colab": {
          "base_uri": "https://localhost:8080/",
          "height": 34
        }
      },
      "cell_type": "code",
      "source": [
        "from sklearn.preprocessing import Normalizer\n",
        "from keras.utils.np_utils import to_categorical\n",
        "\n",
        "trainy = train.iloc[:, 122:127]\n",
        "testy = test.iloc[:, 122:127]\n",
        "trainx = train.iloc[:, 0:122]\n",
        "testx = test.iloc[:, 0:122]\n",
        "#Normalizer does not normalize one_hot^^\n",
        "scaler = Normalizer()\n",
        "\n",
        "#one_hot values\n",
        "#trainx.iloc[:, 38:122] = trainx.iloc[:, 38:122]\n",
        "#testx.iloc[:, 38:122] = testx.iloc[:, 38:122]\n",
        "\n",
        "train_x = scaler.fit_transform(trainx)\n",
        "test_x = scaler.fit_transform(testx)\n",
        "##keras requires np.array\n",
        "train_y = trainy.values\n",
        "test_y = testy.values"
      ],
      "execution_count": 0,
      "outputs": [
        {
          "output_type": "stream",
          "text": [
            "Using TensorFlow backend.\n"
          ],
          "name": "stderr"
        }
      ]
    },
    {
      "metadata": {
        "id": "ilGCREruK6kC",
        "colab_type": "code",
        "colab": {}
      },
      "cell_type": "code",
      "source": [
        ""
      ],
      "execution_count": 0,
      "outputs": []
    },
    {
      "metadata": {
        "id": "r6x2IU6rZ5vN",
        "colab_type": "code",
        "colab": {}
      },
      "cell_type": "code",
      "source": [
        "from keras.models import Sequential\n",
        "from keras.layers import Dense, Activation, Flatten, Dropout\n",
        "from keras.callbacks import ModelCheckpoint, EarlyStopping\n",
        "from keras import optimizers\n",
        "\n",
        "# sequential network\n",
        "NN_model = Sequential()\n",
        "#input layer\n",
        "NN_model.add(Dropout(0.1))\n",
        "layer1 = NN_model.add(Dense(768, input_dim = 122, activation='relu'))\n",
        "#hidden layers\n",
        "NN_model.add(Dropout(0.2))\n",
        "layer2 = NN_model.add(Dense(1024, activation='relu'))\n",
        "NN_model.add(Dropout(0.2))\n",
        "layer2 = NN_model.add(Dense(1536, activation='relu'))\n",
        "NN_model.add(Dropout(0.3))\n",
        "layer3 = NN_model.add(Dense(2048, activation='relu'))\n",
        "NN_model.add(Dropout(0.4))\n",
        "#output layer\n",
        "layerout = NN_model.add(Dense(5))\n",
        "#output layer activation\n",
        "NN_model.add(Activation('softmax'))\n",
        "\n",
        "adamm = optimizers.Adam(lr=0.0001,\n",
        "                        decay=0.0001)\n",
        "\n",
        "NN_model.compile(loss='categorical_crossentropy', \n",
        "                 optimizer=adamm, \n",
        "                 metrics=['categorical_accuracy'])#categorical_accuracy\n",
        "\n",
        "callbacks = EarlyStopping(monitor='val_loss',\n",
        "                         min_delta=0.0001,\n",
        "                         patience=50,\n",
        "                         verbose=0, \n",
        "                         mode='auto')\n",
        "\n",
        "checkpoint = ModelCheckpoint(filepath=\"./checkpoint-{epoch:02d}.hdf5\", \n",
        "                             verbose=1, \n",
        "                             save_best_only=True, \n",
        "                             monitor='val_loss')"
      ],
      "execution_count": 0,
      "outputs": []
    },
    {
      "metadata": {
        "id": "A-oIBM5tdL1B",
        "colab_type": "code",
        "outputId": "09926ca9-4731-4f0b-df92-18e06d374c8c",
        "colab": {
          "base_uri": "https://localhost:8080/",
          "height": 3570
        }
      },
      "cell_type": "code",
      "source": [
        "history = NN_model.fit(train_x, \n",
        "                       train_y, \n",
        "                       validation_data=(test_x, test_y), \n",
        "                       batch_size=size_batch, \n",
        "                       epochs=epochs, \n",
        "                       callbacks=[callbacks, checkpoint])\n",
        "\n",
        "NN_model.save(\"./best_only_model.hdf5\")"
      ],
      "execution_count": 0,
      "outputs": [
        {
          "output_type": "stream",
          "text": [
            "Train on 125973 samples, validate on 22544 samples\n",
            "Epoch 1/150\n",
            "125973/125973 [==============================] - 50s 398us/step - loss: 0.2451 - categorical_accuracy: 0.9199 - val_loss: 1.4535 - val_categorical_accuracy: 0.7134\n",
            "\n",
            "Epoch 00001: val_loss improved from inf to 1.45347, saving model to ./checkpoint-01.hdf5\n",
            "Epoch 2/150\n",
            "125973/125973 [==============================] - 48s 385us/step - loss: 0.1396 - categorical_accuracy: 0.9546 - val_loss: 1.3927 - val_categorical_accuracy: 0.7357\n",
            "\n",
            "Epoch 00002: val_loss improved from 1.45347 to 1.39273, saving model to ./checkpoint-02.hdf5\n",
            "Epoch 3/150\n",
            "125973/125973 [==============================] - 49s 386us/step - loss: 0.1123 - categorical_accuracy: 0.9639 - val_loss: 1.5966 - val_categorical_accuracy: 0.7374\n",
            "\n",
            "Epoch 00003: val_loss did not improve from 1.39273\n",
            "Epoch 4/150\n",
            "125973/125973 [==============================] - 48s 382us/step - loss: 0.0986 - categorical_accuracy: 0.9693 - val_loss: 1.5206 - val_categorical_accuracy: 0.7399\n",
            "\n",
            "Epoch 00004: val_loss did not improve from 1.39273\n",
            "Epoch 5/150\n",
            "125973/125973 [==============================] - 48s 383us/step - loss: 0.0885 - categorical_accuracy: 0.9721 - val_loss: 1.5275 - val_categorical_accuracy: 0.7437\n",
            "\n",
            "Epoch 00005: val_loss did not improve from 1.39273\n",
            "Epoch 6/150\n",
            "125973/125973 [==============================] - 49s 386us/step - loss: 0.0806 - categorical_accuracy: 0.9752 - val_loss: 1.4763 - val_categorical_accuracy: 0.7393\n",
            "\n",
            "Epoch 00006: val_loss did not improve from 1.39273\n",
            "Epoch 7/150\n",
            "125973/125973 [==============================] - 48s 381us/step - loss: 0.0764 - categorical_accuracy: 0.9766 - val_loss: 1.5823 - val_categorical_accuracy: 0.7401\n",
            "\n",
            "Epoch 00007: val_loss did not improve from 1.39273\n",
            "Epoch 8/150\n",
            "125973/125973 [==============================] - 48s 382us/step - loss: 0.0714 - categorical_accuracy: 0.9777 - val_loss: 1.6878 - val_categorical_accuracy: 0.7406\n",
            "\n",
            "Epoch 00008: val_loss did not improve from 1.39273\n",
            "Epoch 9/150\n",
            "125973/125973 [==============================] - 48s 380us/step - loss: 0.0685 - categorical_accuracy: 0.9791 - val_loss: 1.6352 - val_categorical_accuracy: 0.7427\n",
            "\n",
            "Epoch 00009: val_loss did not improve from 1.39273\n",
            "Epoch 10/150\n",
            "125973/125973 [==============================] - 48s 383us/step - loss: 0.0649 - categorical_accuracy: 0.9802 - val_loss: 1.6200 - val_categorical_accuracy: 0.7394\n",
            "\n",
            "Epoch 00010: val_loss did not improve from 1.39273\n",
            "Epoch 11/150\n",
            "125973/125973 [==============================] - 48s 378us/step - loss: 0.0627 - categorical_accuracy: 0.9803 - val_loss: 1.6676 - val_categorical_accuracy: 0.7445\n",
            "\n",
            "Epoch 00011: val_loss did not improve from 1.39273\n",
            "Epoch 12/150\n",
            "125973/125973 [==============================] - 48s 379us/step - loss: 0.0594 - categorical_accuracy: 0.9818 - val_loss: 1.7487 - val_categorical_accuracy: 0.7424\n",
            "\n",
            "Epoch 00012: val_loss did not improve from 1.39273\n",
            "Epoch 13/150\n",
            "125973/125973 [==============================] - 48s 382us/step - loss: 0.0588 - categorical_accuracy: 0.9820 - val_loss: 1.7320 - val_categorical_accuracy: 0.7415\n",
            "\n",
            "Epoch 00013: val_loss did not improve from 1.39273\n",
            "Epoch 14/150\n",
            "125973/125973 [==============================] - 48s 382us/step - loss: 0.0576 - categorical_accuracy: 0.9828 - val_loss: 1.5906 - val_categorical_accuracy: 0.7433\n",
            "\n",
            "Epoch 00014: val_loss did not improve from 1.39273\n",
            "Epoch 15/150\n",
            "125973/125973 [==============================] - 48s 379us/step - loss: 0.0560 - categorical_accuracy: 0.9828 - val_loss: 1.6787 - val_categorical_accuracy: 0.7431\n",
            "\n",
            "Epoch 00015: val_loss did not improve from 1.39273\n",
            "Epoch 16/150\n",
            "125973/125973 [==============================] - 48s 381us/step - loss: 0.0539 - categorical_accuracy: 0.9832 - val_loss: 1.6200 - val_categorical_accuracy: 0.7405\n",
            "\n",
            "Epoch 00016: val_loss did not improve from 1.39273\n",
            "Epoch 17/150\n",
            "125973/125973 [==============================] - 48s 378us/step - loss: 0.0528 - categorical_accuracy: 0.9840 - val_loss: 1.6002 - val_categorical_accuracy: 0.7457\n",
            "\n",
            "Epoch 00017: val_loss did not improve from 1.39273\n",
            "Epoch 18/150\n",
            "125973/125973 [==============================] - 47s 376us/step - loss: 0.0518 - categorical_accuracy: 0.9842 - val_loss: 1.6460 - val_categorical_accuracy: 0.7442\n",
            "\n",
            "Epoch 00018: val_loss did not improve from 1.39273\n",
            "Epoch 19/150\n",
            "125973/125973 [==============================] - 48s 383us/step - loss: 0.0507 - categorical_accuracy: 0.9845 - val_loss: 1.6420 - val_categorical_accuracy: 0.7419\n",
            "\n",
            "Epoch 00019: val_loss did not improve from 1.39273\n",
            "Epoch 20/150\n",
            "125973/125973 [==============================] - 47s 377us/step - loss: 0.0502 - categorical_accuracy: 0.9849 - val_loss: 1.6945 - val_categorical_accuracy: 0.7445\n",
            "\n",
            "Epoch 00020: val_loss did not improve from 1.39273\n",
            "Epoch 21/150\n",
            "125973/125973 [==============================] - 47s 374us/step - loss: 0.0497 - categorical_accuracy: 0.9850 - val_loss: 1.6288 - val_categorical_accuracy: 0.7421\n",
            "\n",
            "Epoch 00021: val_loss did not improve from 1.39273\n",
            "Epoch 22/150\n",
            "125973/125973 [==============================] - 47s 377us/step - loss: 0.0479 - categorical_accuracy: 0.9856 - val_loss: 1.7085 - val_categorical_accuracy: 0.7440\n",
            "\n",
            "Epoch 00022: val_loss did not improve from 1.39273\n",
            "Epoch 23/150\n",
            "125973/125973 [==============================] - 48s 377us/step - loss: 0.0474 - categorical_accuracy: 0.9856 - val_loss: 1.7641 - val_categorical_accuracy: 0.7414\n",
            "\n",
            "Epoch 00023: val_loss did not improve from 1.39273\n",
            "Epoch 24/150\n",
            "125973/125973 [==============================] - 47s 375us/step - loss: 0.0465 - categorical_accuracy: 0.9863 - val_loss: 1.6441 - val_categorical_accuracy: 0.7448\n",
            "\n",
            "Epoch 00024: val_loss did not improve from 1.39273\n",
            "Epoch 25/150\n",
            "125973/125973 [==============================] - 47s 375us/step - loss: 0.0459 - categorical_accuracy: 0.9864 - val_loss: 1.6164 - val_categorical_accuracy: 0.7433\n",
            "\n",
            "Epoch 00025: val_loss did not improve from 1.39273\n",
            "Epoch 26/150\n",
            "125973/125973 [==============================] - 48s 379us/step - loss: 0.0463 - categorical_accuracy: 0.9859 - val_loss: 1.5661 - val_categorical_accuracy: 0.7457\n",
            "\n",
            "Epoch 00026: val_loss did not improve from 1.39273\n",
            "Epoch 27/150\n",
            "125973/125973 [==============================] - 47s 374us/step - loss: 0.0448 - categorical_accuracy: 0.9866 - val_loss: 1.7268 - val_categorical_accuracy: 0.7443\n",
            "\n",
            "Epoch 00027: val_loss did not improve from 1.39273\n",
            "Epoch 28/150\n",
            "125973/125973 [==============================] - 47s 376us/step - loss: 0.0451 - categorical_accuracy: 0.9864 - val_loss: 1.7285 - val_categorical_accuracy: 0.7424\n",
            "\n",
            "Epoch 00028: val_loss did not improve from 1.39273\n",
            "Epoch 29/150\n",
            "125973/125973 [==============================] - 48s 378us/step - loss: 0.0445 - categorical_accuracy: 0.9868 - val_loss: 1.6915 - val_categorical_accuracy: 0.7450\n",
            "\n",
            "Epoch 00029: val_loss did not improve from 1.39273\n",
            "Epoch 30/150\n",
            "125973/125973 [==============================] - 47s 374us/step - loss: 0.0433 - categorical_accuracy: 0.9868 - val_loss: 1.6688 - val_categorical_accuracy: 0.7442\n",
            "\n",
            "Epoch 00030: val_loss did not improve from 1.39273\n",
            "Epoch 31/150\n",
            "125973/125973 [==============================] - 47s 373us/step - loss: 0.0438 - categorical_accuracy: 0.9870 - val_loss: 1.6606 - val_categorical_accuracy: 0.7444\n",
            "\n",
            "Epoch 00031: val_loss did not improve from 1.39273\n",
            "Epoch 32/150\n",
            "125973/125973 [==============================] - 48s 380us/step - loss: 0.0430 - categorical_accuracy: 0.9873 - val_loss: 1.6610 - val_categorical_accuracy: 0.7444\n",
            "\n",
            "Epoch 00032: val_loss did not improve from 1.39273\n",
            "Epoch 33/150\n",
            "125973/125973 [==============================] - 47s 374us/step - loss: 0.0427 - categorical_accuracy: 0.9871 - val_loss: 1.6244 - val_categorical_accuracy: 0.7449\n",
            "\n",
            "Epoch 00033: val_loss did not improve from 1.39273\n",
            "Epoch 34/150\n",
            "125973/125973 [==============================] - 47s 373us/step - loss: 0.0427 - categorical_accuracy: 0.9870 - val_loss: 1.7011 - val_categorical_accuracy: 0.7436\n",
            "\n",
            "Epoch 00034: val_loss did not improve from 1.39273\n",
            "Epoch 35/150\n",
            "125973/125973 [==============================] - 47s 376us/step - loss: 0.0424 - categorical_accuracy: 0.9875 - val_loss: 1.5903 - val_categorical_accuracy: 0.7470\n",
            "\n",
            "Epoch 00035: val_loss did not improve from 1.39273\n",
            "Epoch 36/150\n",
            "125973/125973 [==============================] - 47s 373us/step - loss: 0.0422 - categorical_accuracy: 0.9871 - val_loss: 1.7662 - val_categorical_accuracy: 0.7411\n",
            "\n",
            "Epoch 00036: val_loss did not improve from 1.39273\n",
            "Epoch 37/150\n",
            "125973/125973 [==============================] - 47s 373us/step - loss: 0.0413 - categorical_accuracy: 0.9879 - val_loss: 1.6811 - val_categorical_accuracy: 0.7419\n",
            "\n",
            "Epoch 00037: val_loss did not improve from 1.39273\n",
            "Epoch 38/150\n",
            "125973/125973 [==============================] - 47s 375us/step - loss: 0.0413 - categorical_accuracy: 0.9874 - val_loss: 1.6453 - val_categorical_accuracy: 0.7452\n",
            "\n",
            "Epoch 00038: val_loss did not improve from 1.39273\n",
            "Epoch 39/150\n",
            "125973/125973 [==============================] - 48s 380us/step - loss: 0.0416 - categorical_accuracy: 0.9876 - val_loss: 1.6988 - val_categorical_accuracy: 0.7444\n",
            "\n",
            "Epoch 00039: val_loss did not improve from 1.39273\n",
            "Epoch 40/150\n",
            "125973/125973 [==============================] - 47s 373us/step - loss: 0.0410 - categorical_accuracy: 0.9875 - val_loss: 1.6185 - val_categorical_accuracy: 0.7456\n",
            "\n",
            "Epoch 00040: val_loss did not improve from 1.39273\n",
            "Epoch 41/150\n",
            "125973/125973 [==============================] - 47s 372us/step - loss: 0.0403 - categorical_accuracy: 0.9879 - val_loss: 1.6740 - val_categorical_accuracy: 0.7451\n",
            "\n",
            "Epoch 00041: val_loss did not improve from 1.39273\n",
            "Epoch 42/150\n",
            "125973/125973 [==============================] - 47s 376us/step - loss: 0.0401 - categorical_accuracy: 0.9880 - val_loss: 1.6851 - val_categorical_accuracy: 0.7449\n",
            "\n",
            "Epoch 00042: val_loss did not improve from 1.39273\n",
            "Epoch 43/150\n",
            "125973/125973 [==============================] - 47s 372us/step - loss: 0.0396 - categorical_accuracy: 0.9885 - val_loss: 1.7541 - val_categorical_accuracy: 0.7429\n",
            "\n",
            "Epoch 00043: val_loss did not improve from 1.39273\n",
            "Epoch 44/150\n",
            "125973/125973 [==============================] - 47s 374us/step - loss: 0.0395 - categorical_accuracy: 0.9881 - val_loss: 1.6843 - val_categorical_accuracy: 0.7450\n",
            "\n",
            "Epoch 00044: val_loss did not improve from 1.39273\n",
            "Epoch 45/150\n",
            "125973/125973 [==============================] - 47s 375us/step - loss: 0.0390 - categorical_accuracy: 0.9883 - val_loss: 1.7024 - val_categorical_accuracy: 0.7444\n",
            "\n",
            "Epoch 00045: val_loss did not improve from 1.39273\n",
            "Epoch 46/150\n",
            "125973/125973 [==============================] - 47s 376us/step - loss: 0.0385 - categorical_accuracy: 0.9887 - val_loss: 1.6462 - val_categorical_accuracy: 0.7457\n",
            "\n",
            "Epoch 00046: val_loss did not improve from 1.39273\n",
            "Epoch 47/150\n",
            "125973/125973 [==============================] - 47s 373us/step - loss: 0.0382 - categorical_accuracy: 0.9884 - val_loss: 1.7160 - val_categorical_accuracy: 0.7450\n",
            "\n",
            "Epoch 00047: val_loss did not improve from 1.39273\n",
            "Epoch 48/150\n",
            "125973/125973 [==============================] - 47s 376us/step - loss: 0.0387 - categorical_accuracy: 0.9884 - val_loss: 1.7464 - val_categorical_accuracy: 0.7453\n",
            "\n",
            "Epoch 00048: val_loss did not improve from 1.39273\n",
            "Epoch 49/150\n",
            "125973/125973 [==============================] - 47s 372us/step - loss: 0.0380 - categorical_accuracy: 0.9888 - val_loss: 1.6665 - val_categorical_accuracy: 0.7469\n",
            "\n",
            "Epoch 00049: val_loss did not improve from 1.39273\n",
            "Epoch 50/150\n",
            "125973/125973 [==============================] - 47s 372us/step - loss: 0.0383 - categorical_accuracy: 0.9889 - val_loss: 1.7564 - val_categorical_accuracy: 0.7436\n",
            "\n",
            "Epoch 00050: val_loss did not improve from 1.39273\n",
            "Epoch 51/150\n",
            "125973/125973 [==============================] - 47s 372us/step - loss: 0.0390 - categorical_accuracy: 0.9884 - val_loss: 1.6962 - val_categorical_accuracy: 0.7442\n",
            "\n",
            "Epoch 00051: val_loss did not improve from 1.39273\n",
            "Epoch 52/150\n",
            "125973/125973 [==============================] - 48s 378us/step - loss: 0.0381 - categorical_accuracy: 0.9888 - val_loss: 1.7211 - val_categorical_accuracy: 0.7440\n",
            "\n",
            "Epoch 00052: val_loss did not improve from 1.39273\n"
          ],
          "name": "stdout"
        }
      ]
    },
    {
      "metadata": {
        "id": "2NnUS3o1ECqu",
        "colab_type": "code",
        "colab": {}
      },
      "cell_type": "code",
      "source": [
        "weights_file = './best_only_model.hdf5' # save best checkpoint\n",
        "NN_model.load_weights(weights_file) # load best checkpoint"
      ],
      "execution_count": 0,
      "outputs": []
    },
    {
      "metadata": {
        "id": "fiMMyzQ0MiLP",
        "colab_type": "code",
        "outputId": "5d54ebfb-20fd-48c2-c86c-b3e5b88efd50",
        "colab": {
          "base_uri": "https://localhost:8080/",
          "height": 34
        }
      },
      "cell_type": "code",
      "source": [
        "from keras import metrics\n",
        "from sklearn.metrics import accuracy_score\n",
        "\n",
        "predictions = NN_model.predict(test_x)\n",
        "score = accuracy_score(test_y, predictions.round())\n",
        "print(score)"
      ],
      "execution_count": 0,
      "outputs": [
        {
          "output_type": "stream",
          "text": [
            "0.7439229950319376\n"
          ],
          "name": "stdout"
        }
      ]
    },
    {
      "metadata": {
        "id": "aEr-fafVMiN5",
        "colab_type": "code",
        "outputId": "b6731b7c-4b42-4d5a-d053-53166b04fe17",
        "colab": {
          "base_uri": "https://localhost:8080/",
          "height": 398
        }
      },
      "cell_type": "code",
      "source": [
        "from sklearn.metrics import confusion_matrix\n",
        "from sklearn.metrics import classification_report\n",
        "from sklearn.preprocessing import MultiLabelBinarizer\n",
        "\n",
        "plt.plot(history.history['loss'], label = \"loss\")\n",
        "plt.plot(history.history['categorical_accuracy'], label = \"accuracy\")\n",
        "plt.plot(history.history['val_loss'], label = \"validation loss\")\n",
        "plt.plot(history.history['val_categorical_accuracy'], label = \"validation accuracy\")\n",
        "plt.legend(loc=\"lower right\")\n",
        "plt.xlabel(\"Epochs\")\n",
        "plt.show()"
      ],
      "execution_count": 0,
      "outputs": [
        {
          "output_type": "execute_result",
          "data": {
            "text/plain": [
              "[<matplotlib.lines.Line2D at 0x7fc16b1b51d0>]"
            ]
          },
          "metadata": {
            "tags": []
          },
          "execution_count": 18
        },
        {
          "output_type": "execute_result",
          "data": {
            "text/plain": [
              "[<matplotlib.lines.Line2D at 0x7fc16b1b56a0>]"
            ]
          },
          "metadata": {
            "tags": []
          },
          "execution_count": 18
        },
        {
          "output_type": "execute_result",
          "data": {
            "text/plain": [
              "[<matplotlib.lines.Line2D at 0x7fc16b1b59e8>]"
            ]
          },
          "metadata": {
            "tags": []
          },
          "execution_count": 18
        },
        {
          "output_type": "execute_result",
          "data": {
            "text/plain": [
              "[<matplotlib.lines.Line2D at 0x7fc16b1b5da0>]"
            ]
          },
          "metadata": {
            "tags": []
          },
          "execution_count": 18
        },
        {
          "output_type": "execute_result",
          "data": {
            "text/plain": [
              "<matplotlib.legend.Legend at 0x7fc16b1b5ef0>"
            ]
          },
          "metadata": {
            "tags": []
          },
          "execution_count": 18
        },
        {
          "output_type": "execute_result",
          "data": {
            "text/plain": [
              "Text(0.5, 0, 'Epochs')"
            ]
          },
          "metadata": {
            "tags": []
          },
          "execution_count": 18
        },
        {
          "output_type": "display_data",
          "data": {
            "image/png": "[encoded data removed]",
            "text/plain": [
              "<Figure size 576x396 with 1 Axes>"
            ]
          },
          "metadata": {
            "tags": []
          }
        }
      ]
    },
    {
      "metadata": {
        "id": "LtUiJpwKMiaj",
        "colab_type": "code",
        "outputId": "79b70fcd-38dd-442a-b160-395ab3eea74d",
        "colab": {
          "base_uri": "https://localhost:8080/",
          "height": 741
        }
      },
      "cell_type": "code",
      "source": [
        "predict_y = NN_model.predict_classes(test_x)\n",
        "\n",
        "pre_y = pd.DataFrame(data = predict_y)\n",
        "tst_y = pd.DataFrame(data = test_y)\n",
        "trn_y = pd.DataFrame(data = train_y)\n",
        "\n",
        "from numpy import argmax\n",
        "from sklearn.preprocessing import normalize\n",
        "from sklearn import metrics\n",
        "\n",
        "# decode a one hot encoded string\n",
        "def one_hot_decode(encoded_seq):\n",
        "    return [argmax(vector) for vector in encoded_seq]\n",
        "\n",
        "tst_y = one_hot_decode(test_y)\n",
        "trn_y = one_hot_decode(train_y)\n",
        "\n",
        "print('Test Set Classification Report')\n",
        "class_names = ['probing', 'normal', 'dos', 'r2l', 'u2l']\n",
        "print(classification_report(tst_y, pre_y, target_names=class_names))\n",
        "print('Test Set Accuracy Score :', metrics.accuracy_score(tst_y, pre_y))\n",
        "\n",
        "cnf = confusion_matrix(tst_y, pre_y)\n",
        "print(cnf)\n",
        "import seaborn as sn\n",
        "df_cnf = pd.DataFrame(data = cnf)\n",
        "df_norm_cnf=df_cnf.sub(df_cnf.mean(axis=1), axis=0)\n",
        "df_norm_cnf=df_norm_cnf.div( df_cnf.std(axis=1), axis=0 )\n",
        "\n",
        "plt.figure()\n",
        "sn.heatmap(df_norm_cnf, annot=True,annot_kws={\"size\": 10})# font size"
      ],
      "execution_count": 0,
      "outputs": [
        {
          "output_type": "stream",
          "text": [
            "Test Set Classification Report\n",
            "              precision    recall  f1-score   support\n",
            "\n",
            "     probing       0.95      0.78      0.85      7458\n",
            "      normal       0.88      0.59      0.70      2421\n",
            "         dos       0.65      0.98      0.78      9711\n",
            "         r2l       0.31      0.02      0.04      2754\n",
            "         u2l       0.00      0.00      0.00       200\n",
            "\n",
            "   micro avg       0.74      0.74      0.74     22544\n",
            "   macro avg       0.56      0.47      0.48     22544\n",
            "weighted avg       0.72      0.74      0.70     22544\n",
            "\n",
            "Test Set Accuracy Score : 0.7440117104329311\n",
            "[[5819    7 1502  130    0]\n",
            " [ 290 1417  714    0    0]\n",
            " [  44  188 9476    3    0]\n",
            " [   1    1 2691   61    0]\n",
            " [   0    0  197    3    0]]\n"
          ],
          "name": "stdout"
        },
        {
          "output_type": "stream",
          "text": [
            "/usr/local/lib/python3.6/dist-packages/sklearn/metrics/classification.py:1143: UndefinedMetricWarning: Precision and F-score are ill-defined and being set to 0.0 in labels with no predicted samples.\n",
            "  'precision', 'predicted', average, warn_for)\n"
          ],
          "name": "stderr"
        },
        {
          "output_type": "execute_result",
          "data": {
            "text/plain": [
              "<Figure size 576x396 with 0 Axes>"
            ]
          },
          "metadata": {
            "tags": []
          },
          "execution_count": 19
        },
        {
          "output_type": "execute_result",
          "data": {
            "text/plain": [
              "<matplotlib.axes._subplots.AxesSubplot at 0x7fc1686e3c18>"
            ]
          },
          "metadata": {
            "tags": []
          },
          "execution_count": 19
        },
        {
          "output_type": "display_data",
          "data": {
            "image/png": "[encoded data removed]",
            "text/plain": [
              "<Figure size 576x396 with 2 Axes>"
            ]
          },
          "metadata": {
            "tags": []
          }
        }
      ]
    },
    {
      "metadata": {
        "id": "iB8eY4BcMtwJ",
        "colab_type": "code",
        "outputId": "bc6259d5-b66f-413c-9ef0-76acddffc8fa",
        "colab": {
          "base_uri": "https://localhost:8080/",
          "height": 741
        }
      },
      "cell_type": "code",
      "source": [
        "predict_y = NN_model.predict_classes(train_x)\n",
        "pre_y_tr = pd.DataFrame(data = predict_y)\n",
        "trn_y = pd.DataFrame(data = train_y)\n",
        "\n",
        "from numpy import argmax\n",
        "from sklearn.preprocessing import normalize\n",
        "from sklearn import metrics\n",
        "\n",
        "# decode a one hot encoded string\n",
        "def one_hot_decode(encoded_seq):\n",
        "    return [argmax(vector) for vector in encoded_seq]\n",
        "\n",
        "trn_y = one_hot_decode(train_y)\n",
        "\n",
        "print('Training Set Classification Report')\n",
        "class_names = ['probing', 'normal','dos', 'r2l', 'u2l']\n",
        "print(classification_report(trn_y, pre_y_tr, target_names=class_names))\n",
        "print('Training Set Accuracy Score :', metrics.accuracy_score(trn_y, pre_y_tr))\n",
        "\n",
        "cnf = confusion_matrix(trn_y, pre_y_tr)\n",
        "print(cnf)\n",
        "import seaborn as sn\n",
        "df_cnf = pd.DataFrame(data = cnf)\n",
        "df_norm_cnf=df_cnf.sub(df_cnf.mean(axis=1), axis=0)\n",
        "df_norm_cnf=df_norm_cnf.div( df_cnf.std(axis=1), axis=0 )/2\n",
        "\n",
        "plt.figure()\n",
        "sn.heatmap(df_norm_cnf, annot=True,annot_kws={\"size\": 10})# font size"
      ],
      "execution_count": 0,
      "outputs": [
        {
          "output_type": "stream",
          "text": [
            "Training Set Classification Report\n",
            "              precision    recall  f1-score   support\n",
            "\n",
            "     probing       1.00      1.00      1.00     45927\n",
            "      normal       1.00      0.97      0.98     11656\n",
            "         dos       0.99      1.00      0.99     67343\n",
            "         r2l       0.94      0.81      0.87       995\n",
            "         u2l       0.00      0.00      0.00        52\n",
            "\n",
            "   micro avg       0.99      0.99      0.99    125973\n",
            "   macro avg       0.78      0.75      0.77    125973\n",
            "weighted avg       0.99      0.99      0.99    125973\n",
            "\n",
            "Training Set Accuracy Score : 0.9936891238598747\n"
          ],
          "name": "stdout"
        },
        {
          "output_type": "stream",
          "text": [
            "/usr/local/lib/python3.6/dist-packages/sklearn/metrics/classification.py:1143: UndefinedMetricWarning: Precision and F-score are ill-defined and being set to 0.0 in labels with no predicted samples.\n",
            "  'precision', 'predicted', average, warn_for)\n"
          ],
          "name": "stderr"
        },
        {
          "output_type": "stream",
          "text": [
            "[[45811     1   114     1     0]\n",
            " [   34 11328   294     0     0]\n",
            " [   33    22 67236    52     0]\n",
            " [    0     0   192   803     0]\n",
            " [    0     0    52     0     0]]\n"
          ],
          "name": "stdout"
        },
        {
          "output_type": "execute_result",
          "data": {
            "text/plain": [
              "<Figure size 576x396 with 0 Axes>"
            ]
          },
          "metadata": {
            "tags": []
          },
          "execution_count": 20
        },
        {
          "output_type": "execute_result",
          "data": {
            "text/plain": [
              "<matplotlib.axes._subplots.AxesSubplot at 0x7fc16746d6d8>"
            ]
          },
          "metadata": {
            "tags": []
          },
          "execution_count": 20
        },
        {
          "output_type": "display_data",
          "data": {
            "image/png": "[encoded data removed]",
            "text/plain": [
              "<Figure size 576x396 with 2 Axes>"
            ]
          },
          "metadata": {
            "tags": []
          }
        }
      ]
    },
    {
      "metadata": {
        "id": "AsCBU8aX_FvF",
        "colab_type": "code",
        "colab": {}
      },
      "cell_type": "code",
      "source": [
        "#LabelEncoder\n",
        "#from sklearn.preprocessing import LabelEncoder\n",
        "#from keras.utils import to_categorical\n",
        "#label_encoder = LabelEncoder()\n",
        "\n",
        "#for column in train.columns:\n",
        "#  if train[column].dtype == type(object):\n",
        " #   train[column] = label_encoder.fit_transform(train[column])\n",
        " #   temptr = pd.get_dummies(train[column],\n",
        " #                           prefix = column,\n",
        " #                           columns = train[column])\n",
        " #   train = pd.concat([train, temptr], axis = 1)\n",
        " #   train.drop(column,\n",
        " #              axis=1,\n",
        " #              inplace=True)\n",
        " #   #test\n",
        " #   test[column] = label_encoder.fit_transform(test[column])\n",
        " #   tempte = pd.get_dummies(test[column],\n",
        " #                           prefix = column,\n",
        " #                           columns = test[column])\n",
        " #   test = pd.concat([test, tempte], axis = 1)\n",
        " #   test.drop(column,\n",
        " #             axis=1,\n",
        " #             inplace=True)\n",
        "#list(train)\n",
        "#list(test)\n",
        "    #use inverse transform after training: inverse_transform(y)\n",
        "    #inverse transform for keras!?!?"
      ],
      "execution_count": 0,
      "outputs": []
    }
  ]
}